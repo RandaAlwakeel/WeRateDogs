{
 "cells": [
  {
   "cell_type": "code",
   "execution_count": 473,
   "metadata": {},
   "outputs": [],
   "source": [
    "import pandas as pd\n",
    "import numpy as np\n",
    "import pylab as pl\n",
    "import os\n",
    "from bs4 import BeautifulSoup\n",
    "import requests\n",
    "from PIL import Image\n",
    "from io import BytesIO\n",
    "import matplotlib.pyplot as plt\n",
    "%matplotlib inline\n",
    "import seaborn as sns\n",
    "sns.set_style('darkgrid')\n",
    "import tweepy\n",
    "from tweepy import OAuthHandler\n",
    "import json\n",
    "from timeit import default_timer as timer"
   ]
  },
  {
   "cell_type": "markdown",
   "metadata": {},
   "source": [
    "# Data Gathering"
   ]
  },
  {
   "cell_type": "code",
   "execution_count": 474,
   "metadata": {},
   "outputs": [
    {
     "data": {
      "text/plain": [
       "<Response [200]>"
      ]
     },
     "execution_count": 474,
     "metadata": {},
     "output_type": "execute_result"
    }
   ],
   "source": [
    "folder_name='D:\\data_analysis_FWd\\project2'\n",
    "if not os.path.exists(folder_name):\n",
    "    os.makedir(folder_name)\n",
    "url= 'https://d17h27t6h515a5.cloudfront.net/topher/2017/August/599fd2ad_image-predictions/image-predictions.tsv'\n",
    "response = requests.get(url)\n",
    "response"
   ]
  },
  {
   "cell_type": "code",
   "execution_count": 475,
   "metadata": {},
   "outputs": [],
   "source": [
    "with open(os.path.join(folder_name,url.split('/')[-1]),mode='wb') as file:\n",
    "    file.write(response.content)"
   ]
  },
  {
   "cell_type": "code",
   "execution_count": 476,
   "metadata": {},
   "outputs": [],
   "source": [
    "arc_df= pd.read_csv('D:/data_analysis_FWd/project2/twitter-archive-enhanced.csv')\n",
    "imag_pred =pd.read_csv('D:/data_analysis_FWd/project2/image-predictions.tsv',  sep='\\t')\n",
    "twit_json = pd.read_json (\"D:/data_analysis_FWd/project2/tweet_json.txt\", lines = True)"
   ]
  },
  {
   "cell_type": "markdown",
   "metadata": {},
   "source": [
    "# Visual Assessment:\n",
    "1) there are missing values in some \n",
    "\n",
    "2) tweet_id , id, are of type int"
   ]
  },
  {
   "cell_type": "markdown",
   "metadata": {},
   "source": [
    "# Programatic Assessment"
   ]
  },
  {
   "cell_type": "code",
   "execution_count": 477,
   "metadata": {},
   "outputs": [
    {
     "name": "stdout",
     "output_type": "stream",
     "text": [
      "<class 'pandas.core.frame.DataFrame'>\n",
      "RangeIndex: 2356 entries, 0 to 2355\n",
      "Data columns (total 17 columns):\n",
      " #   Column                      Non-Null Count  Dtype  \n",
      "---  ------                      --------------  -----  \n",
      " 0   tweet_id                    2356 non-null   int64  \n",
      " 1   in_reply_to_status_id       78 non-null     float64\n",
      " 2   in_reply_to_user_id         78 non-null     float64\n",
      " 3   timestamp                   2356 non-null   object \n",
      " 4   source                      2356 non-null   object \n",
      " 5   text                        2356 non-null   object \n",
      " 6   retweeted_status_id         181 non-null    float64\n",
      " 7   retweeted_status_user_id    181 non-null    float64\n",
      " 8   retweeted_status_timestamp  181 non-null    object \n",
      " 9   expanded_urls               2297 non-null   object \n",
      " 10  rating_numerator            2356 non-null   int64  \n",
      " 11  rating_denominator          2356 non-null   int64  \n",
      " 12  name                        2356 non-null   object \n",
      " 13  doggo                       2356 non-null   object \n",
      " 14  floofer                     2356 non-null   object \n",
      " 15  pupper                      2356 non-null   object \n",
      " 16  puppo                       2356 non-null   object \n",
      "dtypes: float64(4), int64(3), object(10)\n",
      "memory usage: 313.0+ KB\n"
     ]
    }
   ],
   "source": [
    "arc_df.info()"
   ]
  },
  {
   "cell_type": "code",
   "execution_count": 478,
   "metadata": {},
   "outputs": [
    {
     "data": {
      "text/html": [
       "<div>\n",
       "<style scoped>\n",
       "    .dataframe tbody tr th:only-of-type {\n",
       "        vertical-align: middle;\n",
       "    }\n",
       "\n",
       "    .dataframe tbody tr th {\n",
       "        vertical-align: top;\n",
       "    }\n",
       "\n",
       "    .dataframe thead th {\n",
       "        text-align: right;\n",
       "    }\n",
       "</style>\n",
       "<table border=\"1\" class=\"dataframe\">\n",
       "  <thead>\n",
       "    <tr style=\"text-align: right;\">\n",
       "      <th></th>\n",
       "      <th>tweet_id</th>\n",
       "      <th>in_reply_to_status_id</th>\n",
       "      <th>in_reply_to_user_id</th>\n",
       "      <th>timestamp</th>\n",
       "      <th>source</th>\n",
       "      <th>text</th>\n",
       "      <th>retweeted_status_id</th>\n",
       "      <th>retweeted_status_user_id</th>\n",
       "      <th>retweeted_status_timestamp</th>\n",
       "      <th>expanded_urls</th>\n",
       "      <th>rating_numerator</th>\n",
       "      <th>rating_denominator</th>\n",
       "      <th>name</th>\n",
       "      <th>doggo</th>\n",
       "      <th>floofer</th>\n",
       "      <th>pupper</th>\n",
       "      <th>puppo</th>\n",
       "    </tr>\n",
       "  </thead>\n",
       "  <tbody>\n",
       "    <tr>\n",
       "      <th>0</th>\n",
       "      <td>892420643555336193</td>\n",
       "      <td>NaN</td>\n",
       "      <td>NaN</td>\n",
       "      <td>2017-08-01 16:23:56 +0000</td>\n",
       "      <td>&lt;a href=\"http://twitter.com/download/iphone\" r...</td>\n",
       "      <td>This is Phineas. He's a mystical boy. Only eve...</td>\n",
       "      <td>NaN</td>\n",
       "      <td>NaN</td>\n",
       "      <td>NaN</td>\n",
       "      <td>https://twitter.com/dog_rates/status/892420643...</td>\n",
       "      <td>13</td>\n",
       "      <td>10</td>\n",
       "      <td>Phineas</td>\n",
       "      <td>None</td>\n",
       "      <td>None</td>\n",
       "      <td>None</td>\n",
       "      <td>None</td>\n",
       "    </tr>\n",
       "    <tr>\n",
       "      <th>1</th>\n",
       "      <td>892177421306343426</td>\n",
       "      <td>NaN</td>\n",
       "      <td>NaN</td>\n",
       "      <td>2017-08-01 00:17:27 +0000</td>\n",
       "      <td>&lt;a href=\"http://twitter.com/download/iphone\" r...</td>\n",
       "      <td>This is Tilly. She's just checking pup on you....</td>\n",
       "      <td>NaN</td>\n",
       "      <td>NaN</td>\n",
       "      <td>NaN</td>\n",
       "      <td>https://twitter.com/dog_rates/status/892177421...</td>\n",
       "      <td>13</td>\n",
       "      <td>10</td>\n",
       "      <td>Tilly</td>\n",
       "      <td>None</td>\n",
       "      <td>None</td>\n",
       "      <td>None</td>\n",
       "      <td>None</td>\n",
       "    </tr>\n",
       "    <tr>\n",
       "      <th>2</th>\n",
       "      <td>891815181378084864</td>\n",
       "      <td>NaN</td>\n",
       "      <td>NaN</td>\n",
       "      <td>2017-07-31 00:18:03 +0000</td>\n",
       "      <td>&lt;a href=\"http://twitter.com/download/iphone\" r...</td>\n",
       "      <td>This is Archie. He is a rare Norwegian Pouncin...</td>\n",
       "      <td>NaN</td>\n",
       "      <td>NaN</td>\n",
       "      <td>NaN</td>\n",
       "      <td>https://twitter.com/dog_rates/status/891815181...</td>\n",
       "      <td>12</td>\n",
       "      <td>10</td>\n",
       "      <td>Archie</td>\n",
       "      <td>None</td>\n",
       "      <td>None</td>\n",
       "      <td>None</td>\n",
       "      <td>None</td>\n",
       "    </tr>\n",
       "    <tr>\n",
       "      <th>3</th>\n",
       "      <td>891689557279858688</td>\n",
       "      <td>NaN</td>\n",
       "      <td>NaN</td>\n",
       "      <td>2017-07-30 15:58:51 +0000</td>\n",
       "      <td>&lt;a href=\"http://twitter.com/download/iphone\" r...</td>\n",
       "      <td>This is Darla. She commenced a snooze mid meal...</td>\n",
       "      <td>NaN</td>\n",
       "      <td>NaN</td>\n",
       "      <td>NaN</td>\n",
       "      <td>https://twitter.com/dog_rates/status/891689557...</td>\n",
       "      <td>13</td>\n",
       "      <td>10</td>\n",
       "      <td>Darla</td>\n",
       "      <td>None</td>\n",
       "      <td>None</td>\n",
       "      <td>None</td>\n",
       "      <td>None</td>\n",
       "    </tr>\n",
       "    <tr>\n",
       "      <th>4</th>\n",
       "      <td>891327558926688256</td>\n",
       "      <td>NaN</td>\n",
       "      <td>NaN</td>\n",
       "      <td>2017-07-29 16:00:24 +0000</td>\n",
       "      <td>&lt;a href=\"http://twitter.com/download/iphone\" r...</td>\n",
       "      <td>This is Franklin. He would like you to stop ca...</td>\n",
       "      <td>NaN</td>\n",
       "      <td>NaN</td>\n",
       "      <td>NaN</td>\n",
       "      <td>https://twitter.com/dog_rates/status/891327558...</td>\n",
       "      <td>12</td>\n",
       "      <td>10</td>\n",
       "      <td>Franklin</td>\n",
       "      <td>None</td>\n",
       "      <td>None</td>\n",
       "      <td>None</td>\n",
       "      <td>None</td>\n",
       "    </tr>\n",
       "  </tbody>\n",
       "</table>\n",
       "</div>"
      ],
      "text/plain": [
       "             tweet_id  in_reply_to_status_id  in_reply_to_user_id  \\\n",
       "0  892420643555336193                    NaN                  NaN   \n",
       "1  892177421306343426                    NaN                  NaN   \n",
       "2  891815181378084864                    NaN                  NaN   \n",
       "3  891689557279858688                    NaN                  NaN   \n",
       "4  891327558926688256                    NaN                  NaN   \n",
       "\n",
       "                   timestamp  \\\n",
       "0  2017-08-01 16:23:56 +0000   \n",
       "1  2017-08-01 00:17:27 +0000   \n",
       "2  2017-07-31 00:18:03 +0000   \n",
       "3  2017-07-30 15:58:51 +0000   \n",
       "4  2017-07-29 16:00:24 +0000   \n",
       "\n",
       "                                              source  \\\n",
       "0  <a href=\"http://twitter.com/download/iphone\" r...   \n",
       "1  <a href=\"http://twitter.com/download/iphone\" r...   \n",
       "2  <a href=\"http://twitter.com/download/iphone\" r...   \n",
       "3  <a href=\"http://twitter.com/download/iphone\" r...   \n",
       "4  <a href=\"http://twitter.com/download/iphone\" r...   \n",
       "\n",
       "                                                text  retweeted_status_id  \\\n",
       "0  This is Phineas. He's a mystical boy. Only eve...                  NaN   \n",
       "1  This is Tilly. She's just checking pup on you....                  NaN   \n",
       "2  This is Archie. He is a rare Norwegian Pouncin...                  NaN   \n",
       "3  This is Darla. She commenced a snooze mid meal...                  NaN   \n",
       "4  This is Franklin. He would like you to stop ca...                  NaN   \n",
       "\n",
       "   retweeted_status_user_id retweeted_status_timestamp  \\\n",
       "0                       NaN                        NaN   \n",
       "1                       NaN                        NaN   \n",
       "2                       NaN                        NaN   \n",
       "3                       NaN                        NaN   \n",
       "4                       NaN                        NaN   \n",
       "\n",
       "                                       expanded_urls  rating_numerator  \\\n",
       "0  https://twitter.com/dog_rates/status/892420643...                13   \n",
       "1  https://twitter.com/dog_rates/status/892177421...                13   \n",
       "2  https://twitter.com/dog_rates/status/891815181...                12   \n",
       "3  https://twitter.com/dog_rates/status/891689557...                13   \n",
       "4  https://twitter.com/dog_rates/status/891327558...                12   \n",
       "\n",
       "   rating_denominator      name doggo floofer pupper puppo  \n",
       "0                  10   Phineas  None    None   None  None  \n",
       "1                  10     Tilly  None    None   None  None  \n",
       "2                  10    Archie  None    None   None  None  \n",
       "3                  10     Darla  None    None   None  None  \n",
       "4                  10  Franklin  None    None   None  None  "
      ]
     },
     "execution_count": 478,
     "metadata": {},
     "output_type": "execute_result"
    }
   ],
   "source": [
    "arc_df.head(5)"
   ]
  },
  {
   "cell_type": "code",
   "execution_count": 479,
   "metadata": {},
   "outputs": [
    {
     "name": "stdout",
     "output_type": "stream",
     "text": [
      "<class 'pandas.core.frame.DataFrame'>\n",
      "RangeIndex: 2075 entries, 0 to 2074\n",
      "Data columns (total 12 columns):\n",
      " #   Column    Non-Null Count  Dtype  \n",
      "---  ------    --------------  -----  \n",
      " 0   tweet_id  2075 non-null   int64  \n",
      " 1   jpg_url   2075 non-null   object \n",
      " 2   img_num   2075 non-null   int64  \n",
      " 3   p1        2075 non-null   object \n",
      " 4   p1_conf   2075 non-null   float64\n",
      " 5   p1_dog    2075 non-null   bool   \n",
      " 6   p2        2075 non-null   object \n",
      " 7   p2_conf   2075 non-null   float64\n",
      " 8   p2_dog    2075 non-null   bool   \n",
      " 9   p3        2075 non-null   object \n",
      " 10  p3_conf   2075 non-null   float64\n",
      " 11  p3_dog    2075 non-null   bool   \n",
      "dtypes: bool(3), float64(3), int64(2), object(4)\n",
      "memory usage: 152.1+ KB\n"
     ]
    }
   ],
   "source": [
    "imag_pred.info()"
   ]
  },
  {
   "cell_type": "code",
   "execution_count": 480,
   "metadata": {},
   "outputs": [
    {
     "data": {
      "text/html": [
       "<div>\n",
       "<style scoped>\n",
       "    .dataframe tbody tr th:only-of-type {\n",
       "        vertical-align: middle;\n",
       "    }\n",
       "\n",
       "    .dataframe tbody tr th {\n",
       "        vertical-align: top;\n",
       "    }\n",
       "\n",
       "    .dataframe thead th {\n",
       "        text-align: right;\n",
       "    }\n",
       "</style>\n",
       "<table border=\"1\" class=\"dataframe\">\n",
       "  <thead>\n",
       "    <tr style=\"text-align: right;\">\n",
       "      <th></th>\n",
       "      <th>tweet_id</th>\n",
       "      <th>jpg_url</th>\n",
       "      <th>img_num</th>\n",
       "      <th>p1</th>\n",
       "      <th>p1_conf</th>\n",
       "      <th>p1_dog</th>\n",
       "      <th>p2</th>\n",
       "      <th>p2_conf</th>\n",
       "      <th>p2_dog</th>\n",
       "      <th>p3</th>\n",
       "      <th>p3_conf</th>\n",
       "      <th>p3_dog</th>\n",
       "    </tr>\n",
       "  </thead>\n",
       "  <tbody>\n",
       "    <tr>\n",
       "      <th>1793</th>\n",
       "      <td>831262627380748289</td>\n",
       "      <td>https://pbs.twimg.com/media/C4k88lGVMAEKNzb.jpg</td>\n",
       "      <td>1</td>\n",
       "      <td>cocker_spaniel</td>\n",
       "      <td>0.263323</td>\n",
       "      <td>True</td>\n",
       "      <td>Brittany_spaniel</td>\n",
       "      <td>0.200550</td>\n",
       "      <td>True</td>\n",
       "      <td>doormat</td>\n",
       "      <td>0.193414</td>\n",
       "      <td>False</td>\n",
       "    </tr>\n",
       "    <tr>\n",
       "      <th>177</th>\n",
       "      <td>669214165781868544</td>\n",
       "      <td>https://pbs.twimg.com/media/CUmGu7-UcAA0r3O.jpg</td>\n",
       "      <td>1</td>\n",
       "      <td>minivan</td>\n",
       "      <td>0.435396</td>\n",
       "      <td>False</td>\n",
       "      <td>police_van</td>\n",
       "      <td>0.310143</td>\n",
       "      <td>False</td>\n",
       "      <td>minibus</td>\n",
       "      <td>0.068201</td>\n",
       "      <td>False</td>\n",
       "    </tr>\n",
       "    <tr>\n",
       "      <th>2006</th>\n",
       "      <td>877611172832227328</td>\n",
       "      <td>https://pbs.twimg.com/media/DCszHgmW0AAmIpT.jpg</td>\n",
       "      <td>1</td>\n",
       "      <td>Irish_setter</td>\n",
       "      <td>0.364729</td>\n",
       "      <td>True</td>\n",
       "      <td>golden_retriever</td>\n",
       "      <td>0.202907</td>\n",
       "      <td>True</td>\n",
       "      <td>Irish_terrier</td>\n",
       "      <td>0.107473</td>\n",
       "      <td>True</td>\n",
       "    </tr>\n",
       "    <tr>\n",
       "      <th>389</th>\n",
       "      <td>673359818736984064</td>\n",
       "      <td>https://pbs.twimg.com/media/CVhBLohWEAAXtYl.jpg</td>\n",
       "      <td>1</td>\n",
       "      <td>English_setter</td>\n",
       "      <td>0.696568</td>\n",
       "      <td>True</td>\n",
       "      <td>Brittany_spaniel</td>\n",
       "      <td>0.104046</td>\n",
       "      <td>True</td>\n",
       "      <td>Ibizan_hound</td>\n",
       "      <td>0.034832</td>\n",
       "      <td>True</td>\n",
       "    </tr>\n",
       "    <tr>\n",
       "      <th>1182</th>\n",
       "      <td>738402415918125056</td>\n",
       "      <td>https://pbs.twimg.com/media/Cj9VEs_XAAAlTai.jpg</td>\n",
       "      <td>1</td>\n",
       "      <td>cocker_spaniel</td>\n",
       "      <td>0.346695</td>\n",
       "      <td>True</td>\n",
       "      <td>Blenheim_spaniel</td>\n",
       "      <td>0.193905</td>\n",
       "      <td>True</td>\n",
       "      <td>Chihuahua</td>\n",
       "      <td>0.078000</td>\n",
       "      <td>True</td>\n",
       "    </tr>\n",
       "  </tbody>\n",
       "</table>\n",
       "</div>"
      ],
      "text/plain": [
       "                tweet_id                                          jpg_url  \\\n",
       "1793  831262627380748289  https://pbs.twimg.com/media/C4k88lGVMAEKNzb.jpg   \n",
       "177   669214165781868544  https://pbs.twimg.com/media/CUmGu7-UcAA0r3O.jpg   \n",
       "2006  877611172832227328  https://pbs.twimg.com/media/DCszHgmW0AAmIpT.jpg   \n",
       "389   673359818736984064  https://pbs.twimg.com/media/CVhBLohWEAAXtYl.jpg   \n",
       "1182  738402415918125056  https://pbs.twimg.com/media/Cj9VEs_XAAAlTai.jpg   \n",
       "\n",
       "      img_num              p1   p1_conf  p1_dog                p2   p2_conf  \\\n",
       "1793        1  cocker_spaniel  0.263323    True  Brittany_spaniel  0.200550   \n",
       "177         1         minivan  0.435396   False        police_van  0.310143   \n",
       "2006        1    Irish_setter  0.364729    True  golden_retriever  0.202907   \n",
       "389         1  English_setter  0.696568    True  Brittany_spaniel  0.104046   \n",
       "1182        1  cocker_spaniel  0.346695    True  Blenheim_spaniel  0.193905   \n",
       "\n",
       "      p2_dog             p3   p3_conf  p3_dog  \n",
       "1793    True        doormat  0.193414   False  \n",
       "177    False        minibus  0.068201   False  \n",
       "2006    True  Irish_terrier  0.107473    True  \n",
       "389     True   Ibizan_hound  0.034832    True  \n",
       "1182    True      Chihuahua  0.078000    True  "
      ]
     },
     "execution_count": 480,
     "metadata": {},
     "output_type": "execute_result"
    }
   ],
   "source": [
    "imag_pred.sample(5)"
   ]
  },
  {
   "cell_type": "code",
   "execution_count": 481,
   "metadata": {},
   "outputs": [
    {
     "name": "stdout",
     "output_type": "stream",
     "text": [
      "<class 'pandas.core.frame.DataFrame'>\n",
      "RangeIndex: 2354 entries, 0 to 2353\n",
      "Data columns (total 31 columns):\n",
      " #   Column                         Non-Null Count  Dtype              \n",
      "---  ------                         --------------  -----              \n",
      " 0   created_at                     2354 non-null   datetime64[ns, UTC]\n",
      " 1   id                             2354 non-null   int64              \n",
      " 2   id_str                         2354 non-null   int64              \n",
      " 3   full_text                      2354 non-null   object             \n",
      " 4   truncated                      2354 non-null   bool               \n",
      " 5   display_text_range             2354 non-null   object             \n",
      " 6   entities                       2354 non-null   object             \n",
      " 7   extended_entities              2073 non-null   object             \n",
      " 8   source                         2354 non-null   object             \n",
      " 9   in_reply_to_status_id          78 non-null     float64            \n",
      " 10  in_reply_to_status_id_str      78 non-null     float64            \n",
      " 11  in_reply_to_user_id            78 non-null     float64            \n",
      " 12  in_reply_to_user_id_str        78 non-null     float64            \n",
      " 13  in_reply_to_screen_name        78 non-null     object             \n",
      " 14  user                           2354 non-null   object             \n",
      " 15  geo                            0 non-null      float64            \n",
      " 16  coordinates                    0 non-null      float64            \n",
      " 17  place                          1 non-null      object             \n",
      " 18  contributors                   0 non-null      float64            \n",
      " 19  is_quote_status                2354 non-null   bool               \n",
      " 20  retweet_count                  2354 non-null   int64              \n",
      " 21  favorite_count                 2354 non-null   int64              \n",
      " 22  favorited                      2354 non-null   bool               \n",
      " 23  retweeted                      2354 non-null   bool               \n",
      " 24  possibly_sensitive             2211 non-null   float64            \n",
      " 25  possibly_sensitive_appealable  2211 non-null   float64            \n",
      " 26  lang                           2354 non-null   object             \n",
      " 27  retweeted_status               179 non-null    object             \n",
      " 28  quoted_status_id               29 non-null     float64            \n",
      " 29  quoted_status_id_str           29 non-null     float64            \n",
      " 30  quoted_status                  28 non-null     object             \n",
      "dtypes: bool(4), datetime64[ns, UTC](1), float64(11), int64(4), object(11)\n",
      "memory usage: 505.9+ KB\n"
     ]
    }
   ],
   "source": [
    "twit_json.info()"
   ]
  },
  {
   "cell_type": "code",
   "execution_count": 482,
   "metadata": {},
   "outputs": [
    {
     "data": {
      "text/html": [
       "<div>\n",
       "<style scoped>\n",
       "    .dataframe tbody tr th:only-of-type {\n",
       "        vertical-align: middle;\n",
       "    }\n",
       "\n",
       "    .dataframe tbody tr th {\n",
       "        vertical-align: top;\n",
       "    }\n",
       "\n",
       "    .dataframe thead th {\n",
       "        text-align: right;\n",
       "    }\n",
       "</style>\n",
       "<table border=\"1\" class=\"dataframe\">\n",
       "  <thead>\n",
       "    <tr style=\"text-align: right;\">\n",
       "      <th></th>\n",
       "      <th>created_at</th>\n",
       "      <th>id</th>\n",
       "      <th>id_str</th>\n",
       "      <th>full_text</th>\n",
       "      <th>truncated</th>\n",
       "      <th>display_text_range</th>\n",
       "      <th>entities</th>\n",
       "      <th>extended_entities</th>\n",
       "      <th>source</th>\n",
       "      <th>in_reply_to_status_id</th>\n",
       "      <th>...</th>\n",
       "      <th>favorite_count</th>\n",
       "      <th>favorited</th>\n",
       "      <th>retweeted</th>\n",
       "      <th>possibly_sensitive</th>\n",
       "      <th>possibly_sensitive_appealable</th>\n",
       "      <th>lang</th>\n",
       "      <th>retweeted_status</th>\n",
       "      <th>quoted_status_id</th>\n",
       "      <th>quoted_status_id_str</th>\n",
       "      <th>quoted_status</th>\n",
       "    </tr>\n",
       "  </thead>\n",
       "  <tbody>\n",
       "    <tr>\n",
       "      <th>0</th>\n",
       "      <td>2017-08-01 16:23:56+00:00</td>\n",
       "      <td>892420643555336193</td>\n",
       "      <td>892420643555336192</td>\n",
       "      <td>This is Phineas. He's a mystical boy. Only eve...</td>\n",
       "      <td>False</td>\n",
       "      <td>[0, 85]</td>\n",
       "      <td>{'hashtags': [], 'symbols': [], 'user_mentions...</td>\n",
       "      <td>{'media': [{'id': 892420639486877696, 'id_str'...</td>\n",
       "      <td>&lt;a href=\"http://twitter.com/download/iphone\" r...</td>\n",
       "      <td>NaN</td>\n",
       "      <td>...</td>\n",
       "      <td>39467</td>\n",
       "      <td>False</td>\n",
       "      <td>False</td>\n",
       "      <td>0.0</td>\n",
       "      <td>0.0</td>\n",
       "      <td>en</td>\n",
       "      <td>NaN</td>\n",
       "      <td>NaN</td>\n",
       "      <td>NaN</td>\n",
       "      <td>NaN</td>\n",
       "    </tr>\n",
       "    <tr>\n",
       "      <th>1</th>\n",
       "      <td>2017-08-01 00:17:27+00:00</td>\n",
       "      <td>892177421306343426</td>\n",
       "      <td>892177421306343424</td>\n",
       "      <td>This is Tilly. She's just checking pup on you....</td>\n",
       "      <td>False</td>\n",
       "      <td>[0, 138]</td>\n",
       "      <td>{'hashtags': [], 'symbols': [], 'user_mentions...</td>\n",
       "      <td>{'media': [{'id': 892177413194625024, 'id_str'...</td>\n",
       "      <td>&lt;a href=\"http://twitter.com/download/iphone\" r...</td>\n",
       "      <td>NaN</td>\n",
       "      <td>...</td>\n",
       "      <td>33819</td>\n",
       "      <td>False</td>\n",
       "      <td>False</td>\n",
       "      <td>0.0</td>\n",
       "      <td>0.0</td>\n",
       "      <td>en</td>\n",
       "      <td>NaN</td>\n",
       "      <td>NaN</td>\n",
       "      <td>NaN</td>\n",
       "      <td>NaN</td>\n",
       "    </tr>\n",
       "    <tr>\n",
       "      <th>2</th>\n",
       "      <td>2017-07-31 00:18:03+00:00</td>\n",
       "      <td>891815181378084864</td>\n",
       "      <td>891815181378084864</td>\n",
       "      <td>This is Archie. He is a rare Norwegian Pouncin...</td>\n",
       "      <td>False</td>\n",
       "      <td>[0, 121]</td>\n",
       "      <td>{'hashtags': [], 'symbols': [], 'user_mentions...</td>\n",
       "      <td>{'media': [{'id': 891815175371796480, 'id_str'...</td>\n",
       "      <td>&lt;a href=\"http://twitter.com/download/iphone\" r...</td>\n",
       "      <td>NaN</td>\n",
       "      <td>...</td>\n",
       "      <td>25461</td>\n",
       "      <td>False</td>\n",
       "      <td>False</td>\n",
       "      <td>0.0</td>\n",
       "      <td>0.0</td>\n",
       "      <td>en</td>\n",
       "      <td>NaN</td>\n",
       "      <td>NaN</td>\n",
       "      <td>NaN</td>\n",
       "      <td>NaN</td>\n",
       "    </tr>\n",
       "    <tr>\n",
       "      <th>3</th>\n",
       "      <td>2017-07-30 15:58:51+00:00</td>\n",
       "      <td>891689557279858688</td>\n",
       "      <td>891689557279858688</td>\n",
       "      <td>This is Darla. She commenced a snooze mid meal...</td>\n",
       "      <td>False</td>\n",
       "      <td>[0, 79]</td>\n",
       "      <td>{'hashtags': [], 'symbols': [], 'user_mentions...</td>\n",
       "      <td>{'media': [{'id': 891689552724799489, 'id_str'...</td>\n",
       "      <td>&lt;a href=\"http://twitter.com/download/iphone\" r...</td>\n",
       "      <td>NaN</td>\n",
       "      <td>...</td>\n",
       "      <td>42908</td>\n",
       "      <td>False</td>\n",
       "      <td>False</td>\n",
       "      <td>0.0</td>\n",
       "      <td>0.0</td>\n",
       "      <td>en</td>\n",
       "      <td>NaN</td>\n",
       "      <td>NaN</td>\n",
       "      <td>NaN</td>\n",
       "      <td>NaN</td>\n",
       "    </tr>\n",
       "    <tr>\n",
       "      <th>4</th>\n",
       "      <td>2017-07-29 16:00:24+00:00</td>\n",
       "      <td>891327558926688256</td>\n",
       "      <td>891327558926688256</td>\n",
       "      <td>This is Franklin. He would like you to stop ca...</td>\n",
       "      <td>False</td>\n",
       "      <td>[0, 138]</td>\n",
       "      <td>{'hashtags': [{'text': 'BarkWeek', 'indices': ...</td>\n",
       "      <td>{'media': [{'id': 891327551943041024, 'id_str'...</td>\n",
       "      <td>&lt;a href=\"http://twitter.com/download/iphone\" r...</td>\n",
       "      <td>NaN</td>\n",
       "      <td>...</td>\n",
       "      <td>41048</td>\n",
       "      <td>False</td>\n",
       "      <td>False</td>\n",
       "      <td>0.0</td>\n",
       "      <td>0.0</td>\n",
       "      <td>en</td>\n",
       "      <td>NaN</td>\n",
       "      <td>NaN</td>\n",
       "      <td>NaN</td>\n",
       "      <td>NaN</td>\n",
       "    </tr>\n",
       "  </tbody>\n",
       "</table>\n",
       "<p>5 rows × 31 columns</p>\n",
       "</div>"
      ],
      "text/plain": [
       "                 created_at                  id              id_str  \\\n",
       "0 2017-08-01 16:23:56+00:00  892420643555336193  892420643555336192   \n",
       "1 2017-08-01 00:17:27+00:00  892177421306343426  892177421306343424   \n",
       "2 2017-07-31 00:18:03+00:00  891815181378084864  891815181378084864   \n",
       "3 2017-07-30 15:58:51+00:00  891689557279858688  891689557279858688   \n",
       "4 2017-07-29 16:00:24+00:00  891327558926688256  891327558926688256   \n",
       "\n",
       "                                           full_text  truncated  \\\n",
       "0  This is Phineas. He's a mystical boy. Only eve...      False   \n",
       "1  This is Tilly. She's just checking pup on you....      False   \n",
       "2  This is Archie. He is a rare Norwegian Pouncin...      False   \n",
       "3  This is Darla. She commenced a snooze mid meal...      False   \n",
       "4  This is Franklin. He would like you to stop ca...      False   \n",
       "\n",
       "  display_text_range                                           entities  \\\n",
       "0            [0, 85]  {'hashtags': [], 'symbols': [], 'user_mentions...   \n",
       "1           [0, 138]  {'hashtags': [], 'symbols': [], 'user_mentions...   \n",
       "2           [0, 121]  {'hashtags': [], 'symbols': [], 'user_mentions...   \n",
       "3            [0, 79]  {'hashtags': [], 'symbols': [], 'user_mentions...   \n",
       "4           [0, 138]  {'hashtags': [{'text': 'BarkWeek', 'indices': ...   \n",
       "\n",
       "                                   extended_entities  \\\n",
       "0  {'media': [{'id': 892420639486877696, 'id_str'...   \n",
       "1  {'media': [{'id': 892177413194625024, 'id_str'...   \n",
       "2  {'media': [{'id': 891815175371796480, 'id_str'...   \n",
       "3  {'media': [{'id': 891689552724799489, 'id_str'...   \n",
       "4  {'media': [{'id': 891327551943041024, 'id_str'...   \n",
       "\n",
       "                                              source  in_reply_to_status_id  \\\n",
       "0  <a href=\"http://twitter.com/download/iphone\" r...                    NaN   \n",
       "1  <a href=\"http://twitter.com/download/iphone\" r...                    NaN   \n",
       "2  <a href=\"http://twitter.com/download/iphone\" r...                    NaN   \n",
       "3  <a href=\"http://twitter.com/download/iphone\" r...                    NaN   \n",
       "4  <a href=\"http://twitter.com/download/iphone\" r...                    NaN   \n",
       "\n",
       "   ...  favorite_count  favorited  retweeted possibly_sensitive  \\\n",
       "0  ...           39467      False      False                0.0   \n",
       "1  ...           33819      False      False                0.0   \n",
       "2  ...           25461      False      False                0.0   \n",
       "3  ...           42908      False      False                0.0   \n",
       "4  ...           41048      False      False                0.0   \n",
       "\n",
       "  possibly_sensitive_appealable  lang  retweeted_status quoted_status_id  \\\n",
       "0                           0.0    en               NaN              NaN   \n",
       "1                           0.0    en               NaN              NaN   \n",
       "2                           0.0    en               NaN              NaN   \n",
       "3                           0.0    en               NaN              NaN   \n",
       "4                           0.0    en               NaN              NaN   \n",
       "\n",
       "   quoted_status_id_str  quoted_status  \n",
       "0                   NaN            NaN  \n",
       "1                   NaN            NaN  \n",
       "2                   NaN            NaN  \n",
       "3                   NaN            NaN  \n",
       "4                   NaN            NaN  \n",
       "\n",
       "[5 rows x 31 columns]"
      ]
     },
     "execution_count": 482,
     "metadata": {},
     "output_type": "execute_result"
    }
   ],
   "source": [
    "twit_json.head(5)"
   ]
  },
  {
   "cell_type": "markdown",
   "metadata": {},
   "source": [
    "# Assessment Issues\n",
    "\n",
    "# Quality issues:\n",
    "\n",
    "1) Column 'tweet_id' in arc_df is of type \"int\". It should be changed to type \"string\" because it is not needed in mathematical operations\n",
    "\n",
    "2) Column 'time_stamp' in the arc_df is of type string so it should be changed to datetime type\n",
    "\n",
    "3) There are data related to retweets in arc_df. They are considerd duplications and sould be removed.\n",
    "\n",
    "4) There are some tweets have no image information.(number of records in arc_df is 2365 however there are only 2075records in image_predections.\n",
    "\n",
    "5) Columns retweet_count and favorite_count sholud be added to arc_df\n",
    "\n",
    "6) Data in column 'source' has unneeded simbols and HTML tags. The URLs should be extracted.\n",
    "\n",
    "7) The data in column 'name' of arc_df starts with small charcters. It should start with capital characters.\n",
    "\n",
    "8) Data that is not about dogs should be excluded.( removing non-dog tweets)\n",
    "\n",
    "9) The columns p1, p1_conf, p2 ...etc in image_predections should be changed to have more descriptive names\n",
    "\n",
    "10) The Ratings data were incorrectly extracted. (there are errors in rating_numerator and rating_denominator). So there is a need to re-extract the correct rating data from column 'full_text' that exists in API (json_copy).\n",
    "\n",
    "# Tidiness Issues:\n",
    "1) The column 'id' in twitter Api (twit_json dataframe) is related to column 'tweet_id' in arc_df. So it can be changed to 'tweet_id' to simplify understanding and dealing with the data\n",
    "\n",
    "2) Columns retweet_count and favorite_count sholud be added to arc_df\n",
    "\n",
    "3) The columns 'doggo', 'floofer', 'pupper', and 'puppo' in arc_df  can be merged together in one column called 'stage'\n",
    "\n",
    "4) p1_conf can be added to the arc_df.\n",
    "\n",
    "\n"
   ]
  },
  {
   "cell_type": "markdown",
   "metadata": {},
   "source": [
    "### Storing a copy of each gathered file"
   ]
  },
  {
   "cell_type": "code",
   "execution_count": 483,
   "metadata": {},
   "outputs": [],
   "source": [
    "arc_clean = arc_df.copy()\n",
    "json_copy= twit_json.copy()\n",
    "imag_clean = imag_pred.copy()"
   ]
  },
  {
   "cell_type": "markdown",
   "metadata": {},
   "source": [
    "## Define\n",
    "\n",
    "### Change the column name of 'id' in twit_json to 'tweet_id'"
   ]
  },
  {
   "cell_type": "markdown",
   "metadata": {},
   "source": [
    "# Code"
   ]
  },
  {
   "cell_type": "code",
   "execution_count": 484,
   "metadata": {},
   "outputs": [],
   "source": [
    "json_copy.rename(columns={'id':'tweet_id'},inplace=True)\n"
   ]
  },
  {
   "cell_type": "markdown",
   "metadata": {},
   "source": [
    "# Test"
   ]
  },
  {
   "cell_type": "code",
   "execution_count": 485,
   "metadata": {},
   "outputs": [
    {
     "name": "stdout",
     "output_type": "stream",
     "text": [
      "<class 'pandas.core.frame.DataFrame'>\n",
      "RangeIndex: 2354 entries, 0 to 2353\n",
      "Data columns (total 31 columns):\n",
      " #   Column                         Non-Null Count  Dtype              \n",
      "---  ------                         --------------  -----              \n",
      " 0   created_at                     2354 non-null   datetime64[ns, UTC]\n",
      " 1   tweet_id                       2354 non-null   int64              \n",
      " 2   id_str                         2354 non-null   int64              \n",
      " 3   full_text                      2354 non-null   object             \n",
      " 4   truncated                      2354 non-null   bool               \n",
      " 5   display_text_range             2354 non-null   object             \n",
      " 6   entities                       2354 non-null   object             \n",
      " 7   extended_entities              2073 non-null   object             \n",
      " 8   source                         2354 non-null   object             \n",
      " 9   in_reply_to_status_id          78 non-null     float64            \n",
      " 10  in_reply_to_status_id_str      78 non-null     float64            \n",
      " 11  in_reply_to_user_id            78 non-null     float64            \n",
      " 12  in_reply_to_user_id_str        78 non-null     float64            \n",
      " 13  in_reply_to_screen_name        78 non-null     object             \n",
      " 14  user                           2354 non-null   object             \n",
      " 15  geo                            0 non-null      float64            \n",
      " 16  coordinates                    0 non-null      float64            \n",
      " 17  place                          1 non-null      object             \n",
      " 18  contributors                   0 non-null      float64            \n",
      " 19  is_quote_status                2354 non-null   bool               \n",
      " 20  retweet_count                  2354 non-null   int64              \n",
      " 21  favorite_count                 2354 non-null   int64              \n",
      " 22  favorited                      2354 non-null   bool               \n",
      " 23  retweeted                      2354 non-null   bool               \n",
      " 24  possibly_sensitive             2211 non-null   float64            \n",
      " 25  possibly_sensitive_appealable  2211 non-null   float64            \n",
      " 26  lang                           2354 non-null   object             \n",
      " 27  retweeted_status               179 non-null    object             \n",
      " 28  quoted_status_id               29 non-null     float64            \n",
      " 29  quoted_status_id_str           29 non-null     float64            \n",
      " 30  quoted_status                  28 non-null     object             \n",
      "dtypes: bool(4), datetime64[ns, UTC](1), float64(11), int64(4), object(11)\n",
      "memory usage: 505.9+ KB\n"
     ]
    }
   ],
   "source": [
    "json_copy.info()"
   ]
  },
  {
   "cell_type": "markdown",
   "metadata": {},
   "source": [
    "# Define\n",
    "## modify the datatypes of the columns in the gathered data files\n",
    "#### The columns to be modified:\n",
    "imag_predections.tweet_id    int ---------> string\n",
    "\n",
    "twit_json.tweet_id             int ---------> string\n",
    "\n",
    "arc_df.tweet_id              int ---------> string\n",
    "\n",
    "arc_df.rating_numerator         int----------> float\n",
    "\n",
    "arc_df.rating_numerator         int----------> float\n",
    "\n",
    "arc_df.timestamp                  sting--------> DateTime"
   ]
  },
  {
   "cell_type": "markdown",
   "metadata": {},
   "source": [
    "# Code"
   ]
  },
  {
   "cell_type": "code",
   "execution_count": 486,
   "metadata": {},
   "outputs": [],
   "source": [
    "#imag_predections.tweet_id    int ---------> string\n",
    "imag_clean['tweet_id'] = imag_clean['tweet_id'].astype(str)"
   ]
  },
  {
   "cell_type": "code",
   "execution_count": 487,
   "metadata": {},
   "outputs": [],
   "source": [
    "#twit_json.id    int ---------> string\n",
    "json_copy['tweet_id'] = json_copy['tweet_id'].astype(str)"
   ]
  },
  {
   "cell_type": "code",
   "execution_count": 488,
   "metadata": {},
   "outputs": [],
   "source": [
    "#arc_df.tweet_id int ---------> string\n",
    "arc_clean['tweet_id'] = arc_clean['tweet_id'].astype(str)"
   ]
  },
  {
   "cell_type": "code",
   "execution_count": 489,
   "metadata": {},
   "outputs": [],
   "source": [
    "#arc_df.rating_numerator int----------> float\n",
    "arc_clean['rating_numerator'] = arc_clean['rating_numerator'].astype(float)"
   ]
  },
  {
   "cell_type": "code",
   "execution_count": 490,
   "metadata": {},
   "outputs": [],
   "source": [
    "#arc_df.rating_numerator int----------> float\n",
    "arc_clean['rating_denominator'] = arc_clean['rating_denominator'].astype(float)"
   ]
  },
  {
   "cell_type": "code",
   "execution_count": 492,
   "metadata": {},
   "outputs": [],
   "source": [
    "#arc_df.timestamp sting--------> DateTime\n",
    "arc_clean['time_stamp'] = pd.to_datetime(arc_clean['timestamp'])"
   ]
  },
  {
   "cell_type": "markdown",
   "metadata": {},
   "source": [
    "# Test"
   ]
  },
  {
   "cell_type": "code",
   "execution_count": 493,
   "metadata": {},
   "outputs": [
    {
     "name": "stdout",
     "output_type": "stream",
     "text": [
      "<class 'pandas.core.frame.DataFrame'>\n",
      "RangeIndex: 2356 entries, 0 to 2355\n",
      "Data columns (total 18 columns):\n",
      " #   Column                      Non-Null Count  Dtype              \n",
      "---  ------                      --------------  -----              \n",
      " 0   tweet_id                    2356 non-null   object             \n",
      " 1   in_reply_to_status_id       78 non-null     float64            \n",
      " 2   in_reply_to_user_id         78 non-null     float64            \n",
      " 3   timestamp                   2356 non-null   object             \n",
      " 4   source                      2356 non-null   object             \n",
      " 5   text                        2356 non-null   object             \n",
      " 6   retweeted_status_id         181 non-null    float64            \n",
      " 7   retweeted_status_user_id    181 non-null    float64            \n",
      " 8   retweeted_status_timestamp  181 non-null    object             \n",
      " 9   expanded_urls               2297 non-null   object             \n",
      " 10  rating_numerator            2356 non-null   float64            \n",
      " 11  rating_denominator          2356 non-null   float64            \n",
      " 12  name                        2356 non-null   object             \n",
      " 13  doggo                       2356 non-null   object             \n",
      " 14  floofer                     2356 non-null   object             \n",
      " 15  pupper                      2356 non-null   object             \n",
      " 16  puppo                       2356 non-null   object             \n",
      " 17  time_stamp                  2356 non-null   datetime64[ns, UTC]\n",
      "dtypes: datetime64[ns, UTC](1), float64(6), object(11)\n",
      "memory usage: 331.4+ KB\n"
     ]
    }
   ],
   "source": [
    "arc_clean.info()"
   ]
  },
  {
   "cell_type": "markdown",
   "metadata": {},
   "source": [
    "### Define\n",
    "##### image_number column is int. \n",
    "####  should be converted to be catgegorical data type"
   ]
  },
  {
   "cell_type": "markdown",
   "metadata": {},
   "source": [
    "### Code"
   ]
  },
  {
   "cell_type": "code",
   "execution_count": 494,
   "metadata": {},
   "outputs": [],
   "source": [
    "imag_clean['img_num'] = imag_clean['img_num'].astype(str)"
   ]
  },
  {
   "cell_type": "markdown",
   "metadata": {},
   "source": [
    "### Check for duplicates in the dataframes"
   ]
  },
  {
   "cell_type": "code",
   "execution_count": 495,
   "metadata": {},
   "outputs": [
    {
     "data": {
      "text/plain": [
       "0"
      ]
     },
     "execution_count": 495,
     "metadata": {},
     "output_type": "execute_result"
    }
   ],
   "source": [
    "sum(arc_clean.duplicated())"
   ]
  },
  {
   "cell_type": "code",
   "execution_count": 496,
   "metadata": {},
   "outputs": [
    {
     "data": {
      "text/plain": [
       "0"
      ]
     },
     "execution_count": 496,
     "metadata": {},
     "output_type": "execute_result"
    }
   ],
   "source": [
    "sum(imag_clean.duplicated())"
   ]
  },
  {
   "cell_type": "markdown",
   "metadata": {},
   "source": [
    "###  Modify the names of the column to be more descriptive\n"
   ]
  },
  {
   "cell_type": "code",
   "execution_count": 497,
   "metadata": {},
   "outputs": [],
   "source": [
    "imag_clean.rename(columns={'p1':'first_predection','p1_conf':'first_conf','p1_dog':'first_isdog','p2':'second_predection','p2_conf':'second_conf','p2_dog':'second_isdog','p3':'third_predection','p3_conf':'third_conf','p3_dog':'third_isdog'},inplace=True)"
   ]
  },
  {
   "cell_type": "markdown",
   "metadata": {},
   "source": [
    "### Test"
   ]
  },
  {
   "cell_type": "code",
   "execution_count": 498,
   "metadata": {},
   "outputs": [
    {
     "name": "stdout",
     "output_type": "stream",
     "text": [
      "<class 'pandas.core.frame.DataFrame'>\n",
      "RangeIndex: 2075 entries, 0 to 2074\n",
      "Data columns (total 12 columns):\n",
      " #   Column             Non-Null Count  Dtype  \n",
      "---  ------             --------------  -----  \n",
      " 0   tweet_id           2075 non-null   object \n",
      " 1   jpg_url            2075 non-null   object \n",
      " 2   img_num            2075 non-null   object \n",
      " 3   first_predection   2075 non-null   object \n",
      " 4   first_conf         2075 non-null   float64\n",
      " 5   first_isdog        2075 non-null   bool   \n",
      " 6   second_predection  2075 non-null   object \n",
      " 7   second_conf        2075 non-null   float64\n",
      " 8   second_isdog       2075 non-null   bool   \n",
      " 9   third_predection   2075 non-null   object \n",
      " 10  third_conf         2075 non-null   float64\n",
      " 11  third_isdog        2075 non-null   bool   \n",
      "dtypes: bool(3), float64(3), object(6)\n",
      "memory usage: 152.1+ KB\n"
     ]
    }
   ],
   "source": [
    "imag_clean.info()"
   ]
  },
  {
   "cell_type": "markdown",
   "metadata": {},
   "source": [
    "### Define\n",
    "#### Remove duplicated tweets ( retweets) from the archive dataframe.\n",
    "\n",
    "##### If 'retweeted_status_id' is not null then it is a retweet"
   ]
  },
  {
   "cell_type": "markdown",
   "metadata": {},
   "source": [
    "### Code\n",
    "\n",
    "Drop all the data that contains values in 'retweeted_status_id'\n",
    "\n",
    "Then Drop columns 'retweeted_status_id','retweeted_status_user_id','retweeted_status_timestamp' as they are no longer needed"
   ]
  },
  {
   "cell_type": "code",
   "execution_count": 499,
   "metadata": {},
   "outputs": [],
   "source": [
    "arc_clean= arc_clean[arc_clean.retweeted_status_id.isnull()] \n"
   ]
  },
  {
   "cell_type": "code",
   "execution_count": 500,
   "metadata": {},
   "outputs": [],
   "source": [
    "arc_clean= arc_clean.drop(['retweeted_status_id','retweeted_status_user_id','retweeted_status_timestamp'],axis=1)"
   ]
  },
  {
   "cell_type": "markdown",
   "metadata": {},
   "source": [
    "# Test"
   ]
  },
  {
   "cell_type": "code",
   "execution_count": 501,
   "metadata": {},
   "outputs": [
    {
     "name": "stdout",
     "output_type": "stream",
     "text": [
      "<class 'pandas.core.frame.DataFrame'>\n",
      "Int64Index: 2175 entries, 0 to 2355\n",
      "Data columns (total 15 columns):\n",
      " #   Column                 Non-Null Count  Dtype              \n",
      "---  ------                 --------------  -----              \n",
      " 0   tweet_id               2175 non-null   object             \n",
      " 1   in_reply_to_status_id  78 non-null     float64            \n",
      " 2   in_reply_to_user_id    78 non-null     float64            \n",
      " 3   timestamp              2175 non-null   object             \n",
      " 4   source                 2175 non-null   object             \n",
      " 5   text                   2175 non-null   object             \n",
      " 6   expanded_urls          2117 non-null   object             \n",
      " 7   rating_numerator       2175 non-null   float64            \n",
      " 8   rating_denominator     2175 non-null   float64            \n",
      " 9   name                   2175 non-null   object             \n",
      " 10  doggo                  2175 non-null   object             \n",
      " 11  floofer                2175 non-null   object             \n",
      " 12  pupper                 2175 non-null   object             \n",
      " 13  puppo                  2175 non-null   object             \n",
      " 14  time_stamp             2175 non-null   datetime64[ns, UTC]\n",
      "dtypes: datetime64[ns, UTC](1), float64(4), object(10)\n",
      "memory usage: 271.9+ KB\n"
     ]
    }
   ],
   "source": [
    "arc_clean.info()"
   ]
  },
  {
   "cell_type": "markdown",
   "metadata": {},
   "source": [
    "### Define\n",
    "#### Remove the tweets that have not images data\n",
    "Adding a column image_exist to arc_clean dframe: takes True/False values with False if no image available\n",
    "initialize image_exist  column with False. \n",
    "setting image_exist to True if there is image using image_pred Datafrane. Then Remove image_exist since there it is no longer needed\n"
   ]
  },
  {
   "cell_type": "markdown",
   "metadata": {},
   "source": [
    "### Code"
   ]
  },
  {
   "cell_type": "code",
   "execution_count": 502,
   "metadata": {},
   "outputs": [],
   "source": [
    "arc_clean['image_exist']= False"
   ]
  },
  {
   "cell_type": "code",
   "execution_count": 503,
   "metadata": {},
   "outputs": [
    {
     "name": "stderr",
     "output_type": "stream",
     "text": [
      "C:\\ProgramData\\Anaconda3\\lib\\site-packages\\ipykernel_launcher.py:7: SettingWithCopyWarning: \n",
      "A value is trying to be set on a copy of a slice from a DataFrame\n",
      "\n",
      "See the caveats in the documentation: https://pandas.pydata.org/pandas-docs/stable/user_guide/indexing.html#returning-a-view-versus-a-copy\n",
      "  import sys\n"
     ]
    }
   ],
   "source": [
    "s1=set(arc_clean['tweet_id'])\n",
    "s2=set(imag_clean['tweet_id'])\n",
    "\n",
    "for i in s1:\n",
    "    if i in s2:\n",
    "        l= arc_clean[arc_clean['tweet_id']==i].index\n",
    "        arc_clean['image_exist'][l]=True\n",
    "\n"
   ]
  },
  {
   "cell_type": "markdown",
   "metadata": {},
   "source": [
    "### Test"
   ]
  },
  {
   "cell_type": "code",
   "execution_count": 504,
   "metadata": {},
   "outputs": [
    {
     "data": {
      "text/plain": [
       "pandas.core.frame.DataFrame"
      ]
     },
     "execution_count": 504,
     "metadata": {},
     "output_type": "execute_result"
    }
   ],
   "source": [
    "type(arc_clean)"
   ]
  },
  {
   "cell_type": "code",
   "execution_count": 505,
   "metadata": {},
   "outputs": [
    {
     "name": "stdout",
     "output_type": "stream",
     "text": [
      "<class 'pandas.core.frame.DataFrame'>\n",
      "Int64Index: 2175 entries, 0 to 2355\n",
      "Data columns (total 16 columns):\n",
      " #   Column                 Non-Null Count  Dtype              \n",
      "---  ------                 --------------  -----              \n",
      " 0   tweet_id               2175 non-null   object             \n",
      " 1   in_reply_to_status_id  78 non-null     float64            \n",
      " 2   in_reply_to_user_id    78 non-null     float64            \n",
      " 3   timestamp              2175 non-null   object             \n",
      " 4   source                 2175 non-null   object             \n",
      " 5   text                   2175 non-null   object             \n",
      " 6   expanded_urls          2117 non-null   object             \n",
      " 7   rating_numerator       2175 non-null   float64            \n",
      " 8   rating_denominator     2175 non-null   float64            \n",
      " 9   name                   2175 non-null   object             \n",
      " 10  doggo                  2175 non-null   object             \n",
      " 11  floofer                2175 non-null   object             \n",
      " 12  pupper                 2175 non-null   object             \n",
      " 13  puppo                  2175 non-null   object             \n",
      " 14  time_stamp             2175 non-null   datetime64[ns, UTC]\n",
      " 15  image_exist            2175 non-null   bool               \n",
      "dtypes: bool(1), datetime64[ns, UTC](1), float64(4), object(10)\n",
      "memory usage: 354.0+ KB\n"
     ]
    }
   ],
   "source": [
    "arc_clean.info()"
   ]
  },
  {
   "cell_type": "markdown",
   "metadata": {},
   "source": [
    "### Filter out the tweets with no images"
   ]
  },
  {
   "cell_type": "code",
   "execution_count": 506,
   "metadata": {},
   "outputs": [
    {
     "data": {
      "text/plain": [
       "pandas.core.frame.DataFrame"
      ]
     },
     "execution_count": 506,
     "metadata": {},
     "output_type": "execute_result"
    }
   ],
   "source": [
    "arc_clean=arc_clean[arc_clean['image_exist']==True]\n",
    "type(arc_clean)"
   ]
  },
  {
   "cell_type": "markdown",
   "metadata": {},
   "source": [
    "### Test"
   ]
  },
  {
   "cell_type": "code",
   "execution_count": 507,
   "metadata": {},
   "outputs": [
    {
     "name": "stdout",
     "output_type": "stream",
     "text": [
      "<class 'pandas.core.frame.DataFrame'>\n",
      "Int64Index: 1994 entries, 0 to 2355\n",
      "Data columns (total 16 columns):\n",
      " #   Column                 Non-Null Count  Dtype              \n",
      "---  ------                 --------------  -----              \n",
      " 0   tweet_id               1994 non-null   object             \n",
      " 1   in_reply_to_status_id  23 non-null     float64            \n",
      " 2   in_reply_to_user_id    23 non-null     float64            \n",
      " 3   timestamp              1994 non-null   object             \n",
      " 4   source                 1994 non-null   object             \n",
      " 5   text                   1994 non-null   object             \n",
      " 6   expanded_urls          1994 non-null   object             \n",
      " 7   rating_numerator       1994 non-null   float64            \n",
      " 8   rating_denominator     1994 non-null   float64            \n",
      " 9   name                   1994 non-null   object             \n",
      " 10  doggo                  1994 non-null   object             \n",
      " 11  floofer                1994 non-null   object             \n",
      " 12  pupper                 1994 non-null   object             \n",
      " 13  puppo                  1994 non-null   object             \n",
      " 14  time_stamp             1994 non-null   datetime64[ns, UTC]\n",
      " 15  image_exist            1994 non-null   bool               \n",
      "dtypes: bool(1), datetime64[ns, UTC](1), float64(4), object(10)\n",
      "memory usage: 251.2+ KB\n"
     ]
    }
   ],
   "source": [
    "arc_clean.info()"
   ]
  },
  {
   "cell_type": "markdown",
   "metadata": {},
   "source": [
    " ##### Re- Drop the column 'image_exist' as it is no longer needed"
   ]
  },
  {
   "cell_type": "code",
   "execution_count": 508,
   "metadata": {},
   "outputs": [],
   "source": [
    "arc_clean= pd.DataFrame(arc_clean.drop(['image_exist'],axis=1))\n"
   ]
  },
  {
   "cell_type": "markdown",
   "metadata": {},
   "source": [
    "# Define\n",
    "Add columns 'favorite_count' and 'retweet_count' to arc_cleand\n",
    "using merge:\n",
    "\n",
    "Merging the dataframes arc_clean and json_copy. the result dataframe called narc_clean"
   ]
  },
  {
   "cell_type": "markdown",
   "metadata": {},
   "source": [
    "# Code"
   ]
  },
  {
   "cell_type": "code",
   "execution_count": 509,
   "metadata": {},
   "outputs": [],
   "source": [
    "arc_clean= pd.merge(arc_clean,json_copy[['tweet_id','favorite_count','retweet_count']],on='tweet_id',how='inner')"
   ]
  },
  {
   "cell_type": "markdown",
   "metadata": {},
   "source": [
    "# Test"
   ]
  },
  {
   "cell_type": "code",
   "execution_count": 510,
   "metadata": {},
   "outputs": [
    {
     "name": "stdout",
     "output_type": "stream",
     "text": [
      "<class 'pandas.core.frame.DataFrame'>\n",
      "Int64Index: 1994 entries, 0 to 1993\n",
      "Data columns (total 17 columns):\n",
      " #   Column                 Non-Null Count  Dtype              \n",
      "---  ------                 --------------  -----              \n",
      " 0   tweet_id               1994 non-null   object             \n",
      " 1   in_reply_to_status_id  23 non-null     float64            \n",
      " 2   in_reply_to_user_id    23 non-null     float64            \n",
      " 3   timestamp              1994 non-null   object             \n",
      " 4   source                 1994 non-null   object             \n",
      " 5   text                   1994 non-null   object             \n",
      " 6   expanded_urls          1994 non-null   object             \n",
      " 7   rating_numerator       1994 non-null   float64            \n",
      " 8   rating_denominator     1994 non-null   float64            \n",
      " 9   name                   1994 non-null   object             \n",
      " 10  doggo                  1994 non-null   object             \n",
      " 11  floofer                1994 non-null   object             \n",
      " 12  pupper                 1994 non-null   object             \n",
      " 13  puppo                  1994 non-null   object             \n",
      " 14  time_stamp             1994 non-null   datetime64[ns, UTC]\n",
      " 15  favorite_count         1994 non-null   int64              \n",
      " 16  retweet_count          1994 non-null   int64              \n",
      "dtypes: datetime64[ns, UTC](1), float64(4), int64(2), object(10)\n",
      "memory usage: 280.4+ KB\n"
     ]
    }
   ],
   "source": [
    "arc_clean.info()"
   ]
  },
  {
   "cell_type": "markdown",
   "metadata": {},
   "source": [
    "# Define\n",
    "Explore the column 'source'\n",
    "\n",
    "Remove the unneeded tags and symbols"
   ]
  },
  {
   "cell_type": "markdown",
   "metadata": {},
   "source": [
    "# Code"
   ]
  },
  {
   "cell_type": "code",
   "execution_count": 511,
   "metadata": {},
   "outputs": [
    {
     "data": {
      "text/plain": [
       "12     <a href=\"http://twitter.com/download/iphone\" r...\n",
       "500    <a href=\"http://twitter.com/download/iphone\" r...\n",
       "171    <a href=\"http://twitter.com/download/iphone\" r...\n",
       "Name: source, dtype: object"
      ]
     },
     "execution_count": 511,
     "metadata": {},
     "output_type": "execute_result"
    }
   ],
   "source": [
    "arc_clean.source.sample(3)"
   ]
  },
  {
   "cell_type": "code",
   "execution_count": 512,
   "metadata": {},
   "outputs": [],
   "source": [
    "arc_clean['source']=arc_clean['source'].str.extract('(http://[a-zA-Z/.]+)')"
   ]
  },
  {
   "cell_type": "markdown",
   "metadata": {},
   "source": [
    "# Test"
   ]
  },
  {
   "cell_type": "code",
   "execution_count": 513,
   "metadata": {},
   "outputs": [
    {
     "data": {
      "text/plain": [
       "917     http://twitter.com/download/iphone\n",
       "310     http://twitter.com/download/iphone\n",
       "1156    http://twitter.com/download/iphone\n",
       "Name: source, dtype: object"
      ]
     },
     "execution_count": 513,
     "metadata": {},
     "output_type": "execute_result"
    }
   ],
   "source": [
    "arc_clean.source.sample(3)"
   ]
  },
  {
   "cell_type": "code",
   "execution_count": 514,
   "metadata": {},
   "outputs": [
    {
     "name": "stdout",
     "output_type": "stream",
     "text": [
      "<class 'pandas.core.frame.DataFrame'>\n",
      "Int64Index: 1994 entries, 0 to 1993\n",
      "Data columns (total 17 columns):\n",
      " #   Column                 Non-Null Count  Dtype              \n",
      "---  ------                 --------------  -----              \n",
      " 0   tweet_id               1994 non-null   object             \n",
      " 1   in_reply_to_status_id  23 non-null     float64            \n",
      " 2   in_reply_to_user_id    23 non-null     float64            \n",
      " 3   timestamp              1994 non-null   object             \n",
      " 4   source                 1983 non-null   object             \n",
      " 5   text                   1994 non-null   object             \n",
      " 6   expanded_urls          1994 non-null   object             \n",
      " 7   rating_numerator       1994 non-null   float64            \n",
      " 8   rating_denominator     1994 non-null   float64            \n",
      " 9   name                   1994 non-null   object             \n",
      " 10  doggo                  1994 non-null   object             \n",
      " 11  floofer                1994 non-null   object             \n",
      " 12  pupper                 1994 non-null   object             \n",
      " 13  puppo                  1994 non-null   object             \n",
      " 14  time_stamp             1994 non-null   datetime64[ns, UTC]\n",
      " 15  favorite_count         1994 non-null   int64              \n",
      " 16  retweet_count          1994 non-null   int64              \n",
      "dtypes: datetime64[ns, UTC](1), float64(4), int64(2), object(10)\n",
      "memory usage: 280.4+ KB\n"
     ]
    }
   ],
   "source": [
    "arc_clean.info()"
   ]
  },
  {
   "cell_type": "markdown",
   "metadata": {},
   "source": [
    "### Define\n",
    "#### Remove the non dog data from arc_clean using first_isdog, second_isdog, third_isdog columns from image_prediction dataframe"
   ]
  },
  {
   "cell_type": "markdown",
   "metadata": {},
   "source": [
    "### Code"
   ]
  },
  {
   "cell_type": "code",
   "execution_count": 515,
   "metadata": {},
   "outputs": [],
   "source": [
    "arc_clean['dog']= True"
   ]
  },
  {
   "cell_type": "code",
   "execution_count": 516,
   "metadata": {},
   "outputs": [],
   "source": [
    "not_dog= imag_clean.query('first_isdog == False and second_isdog == False  and third_isdog == False')"
   ]
  },
  {
   "cell_type": "code",
   "execution_count": 517,
   "metadata": {},
   "outputs": [
    {
     "name": "stderr",
     "output_type": "stream",
     "text": [
      "C:\\ProgramData\\Anaconda3\\lib\\site-packages\\ipykernel_launcher.py:6: SettingWithCopyWarning: \n",
      "A value is trying to be set on a copy of a slice from a DataFrame\n",
      "\n",
      "See the caveats in the documentation: https://pandas.pydata.org/pandas-docs/stable/user_guide/indexing.html#returning-a-view-versus-a-copy\n",
      "  \n"
     ]
    }
   ],
   "source": [
    "s1=list(not_dog['tweet_id'])\n",
    "s2=set(imag_clean['tweet_id'])\n",
    "\n",
    "for i in s1:\n",
    "    l= arc_clean[arc_clean['tweet_id']==i].index\n",
    "    arc_clean['dog'][l]=False"
   ]
  },
  {
   "cell_type": "code",
   "execution_count": 518,
   "metadata": {},
   "outputs": [
    {
     "name": "stdout",
     "output_type": "stream",
     "text": [
      "<class 'pandas.core.frame.DataFrame'>\n",
      "Int64Index: 1994 entries, 0 to 1993\n",
      "Data columns (total 18 columns):\n",
      " #   Column                 Non-Null Count  Dtype              \n",
      "---  ------                 --------------  -----              \n",
      " 0   tweet_id               1994 non-null   object             \n",
      " 1   in_reply_to_status_id  23 non-null     float64            \n",
      " 2   in_reply_to_user_id    23 non-null     float64            \n",
      " 3   timestamp              1994 non-null   object             \n",
      " 4   source                 1983 non-null   object             \n",
      " 5   text                   1994 non-null   object             \n",
      " 6   expanded_urls          1994 non-null   object             \n",
      " 7   rating_numerator       1994 non-null   float64            \n",
      " 8   rating_denominator     1994 non-null   float64            \n",
      " 9   name                   1994 non-null   object             \n",
      " 10  doggo                  1994 non-null   object             \n",
      " 11  floofer                1994 non-null   object             \n",
      " 12  pupper                 1994 non-null   object             \n",
      " 13  puppo                  1994 non-null   object             \n",
      " 14  time_stamp             1994 non-null   datetime64[ns, UTC]\n",
      " 15  favorite_count         1994 non-null   int64              \n",
      " 16  retweet_count          1994 non-null   int64              \n",
      " 17  dog                    1994 non-null   bool               \n",
      "dtypes: bool(1), datetime64[ns, UTC](1), float64(4), int64(2), object(10)\n",
      "memory usage: 362.4+ KB\n"
     ]
    }
   ],
   "source": [
    "arc_clean.info()"
   ]
  },
  {
   "cell_type": "code",
   "execution_count": 519,
   "metadata": {},
   "outputs": [
    {
     "data": {
      "text/plain": [
       "'Meet Jax. He enjoys ice cream so much he gets nervous around it. 13/10 help Jax enjoy more things by clicking below\\n\\nhttps://t.co/Zr4hWfAs1H https://t.co/tVJBRMnhxl'"
      ]
     },
     "execution_count": 519,
     "metadata": {},
     "output_type": "execute_result"
    }
   ],
   "source": [
    "arc_clean.text[6]"
   ]
  },
  {
   "cell_type": "markdown",
   "metadata": {},
   "source": [
    "# Test"
   ]
  },
  {
   "cell_type": "code",
   "execution_count": 520,
   "metadata": {},
   "outputs": [],
   "source": [
    "arc_clean= arc_clean[arc_clean['dog']==True]"
   ]
  },
  {
   "cell_type": "code",
   "execution_count": 521,
   "metadata": {},
   "outputs": [
    {
     "name": "stdout",
     "output_type": "stream",
     "text": [
      "<class 'pandas.core.frame.DataFrame'>\n",
      "Int64Index: 1686 entries, 1 to 1993\n",
      "Data columns (total 18 columns):\n",
      " #   Column                 Non-Null Count  Dtype              \n",
      "---  ------                 --------------  -----              \n",
      " 0   tweet_id               1686 non-null   object             \n",
      " 1   in_reply_to_status_id  20 non-null     float64            \n",
      " 2   in_reply_to_user_id    20 non-null     float64            \n",
      " 3   timestamp              1686 non-null   object             \n",
      " 4   source                 1677 non-null   object             \n",
      " 5   text                   1686 non-null   object             \n",
      " 6   expanded_urls          1686 non-null   object             \n",
      " 7   rating_numerator       1686 non-null   float64            \n",
      " 8   rating_denominator     1686 non-null   float64            \n",
      " 9   name                   1686 non-null   object             \n",
      " 10  doggo                  1686 non-null   object             \n",
      " 11  floofer                1686 non-null   object             \n",
      " 12  pupper                 1686 non-null   object             \n",
      " 13  puppo                  1686 non-null   object             \n",
      " 14  time_stamp             1686 non-null   datetime64[ns, UTC]\n",
      " 15  favorite_count         1686 non-null   int64              \n",
      " 16  retweet_count          1686 non-null   int64              \n",
      " 17  dog                    1686 non-null   bool               \n",
      "dtypes: bool(1), datetime64[ns, UTC](1), float64(4), int64(2), object(10)\n",
      "memory usage: 238.7+ KB\n"
     ]
    }
   ],
   "source": [
    "arc_clean.info()"
   ]
  },
  {
   "cell_type": "code",
   "execution_count": 522,
   "metadata": {},
   "outputs": [],
   "source": [
    "new_arc=arc_clean.copy()"
   ]
  },
  {
   "cell_type": "markdown",
   "metadata": {},
   "source": [
    "# Drop column dog because it is no longer needed"
   ]
  },
  {
   "cell_type": "code",
   "execution_count": 523,
   "metadata": {},
   "outputs": [],
   "source": [
    "arc_clean=pd.DataFrame(arc_clean.drop(['dog'],axis=1))"
   ]
  },
  {
   "cell_type": "markdown",
   "metadata": {},
   "source": [
    "# Test"
   ]
  },
  {
   "cell_type": "code",
   "execution_count": 524,
   "metadata": {},
   "outputs": [
    {
     "name": "stdout",
     "output_type": "stream",
     "text": [
      "<class 'pandas.core.frame.DataFrame'>\n",
      "Int64Index: 1686 entries, 1 to 1993\n",
      "Data columns (total 17 columns):\n",
      " #   Column                 Non-Null Count  Dtype              \n",
      "---  ------                 --------------  -----              \n",
      " 0   tweet_id               1686 non-null   object             \n",
      " 1   in_reply_to_status_id  20 non-null     float64            \n",
      " 2   in_reply_to_user_id    20 non-null     float64            \n",
      " 3   timestamp              1686 non-null   object             \n",
      " 4   source                 1677 non-null   object             \n",
      " 5   text                   1686 non-null   object             \n",
      " 6   expanded_urls          1686 non-null   object             \n",
      " 7   rating_numerator       1686 non-null   float64            \n",
      " 8   rating_denominator     1686 non-null   float64            \n",
      " 9   name                   1686 non-null   object             \n",
      " 10  doggo                  1686 non-null   object             \n",
      " 11  floofer                1686 non-null   object             \n",
      " 12  pupper                 1686 non-null   object             \n",
      " 13  puppo                  1686 non-null   object             \n",
      " 14  time_stamp             1686 non-null   datetime64[ns, UTC]\n",
      " 15  favorite_count         1686 non-null   int64              \n",
      " 16  retweet_count          1686 non-null   int64              \n",
      "dtypes: datetime64[ns, UTC](1), float64(4), int64(2), object(10)\n",
      "memory usage: 237.1+ KB\n"
     ]
    }
   ],
   "source": [
    "arc_clean.info()"
   ]
  },
  {
   "cell_type": "markdown",
   "metadata": {},
   "source": [
    "# Define\n",
    "Convert the first character of 'name' to capital letter"
   ]
  },
  {
   "cell_type": "markdown",
   "metadata": {},
   "source": [
    "# Code"
   ]
  },
  {
   "cell_type": "code",
   "execution_count": 525,
   "metadata": {},
   "outputs": [],
   "source": [
    "arc_clean['name']= arc_clean['name'].str.title()"
   ]
  },
  {
   "cell_type": "code",
   "execution_count": 526,
   "metadata": {},
   "outputs": [
    {
     "data": {
      "text/plain": [
       "1          Tilly\n",
       "2         Archie\n",
       "3          Darla\n",
       "4       Franklin\n",
       "5           None\n",
       "          ...   \n",
       "1989        None\n",
       "1990           A\n",
       "1991           A\n",
       "1992           A\n",
       "1993        None\n",
       "Name: name, Length: 1686, dtype: object"
      ]
     },
     "execution_count": 526,
     "metadata": {},
     "output_type": "execute_result"
    }
   ],
   "source": [
    "arc_clean['name']"
   ]
  },
  {
   "cell_type": "markdown",
   "metadata": {},
   "source": [
    "# Define\n",
    "\n",
    "Creating a column 'stage' instead of four columns 'doggo', 'floofer', 'pupper'and 'puppo'\n"
   ]
  },
  {
   "cell_type": "code",
   "execution_count": 527,
   "metadata": {},
   "outputs": [],
   "source": [
    "arc_clean['stage'] = arc_clean[['doggo', 'floofer', 'pupper', 'puppo']].max(axis=1)"
   ]
  },
  {
   "cell_type": "code",
   "execution_count": 528,
   "metadata": {},
   "outputs": [
    {
     "data": {
      "text/plain": [
       "54"
      ]
     },
     "execution_count": 528,
     "metadata": {},
     "output_type": "execute_result"
    }
   ],
   "source": [
    "len(arc_clean[arc_clean['stage']=='doggo'])"
   ]
  },
  {
   "cell_type": "code",
   "execution_count": 529,
   "metadata": {},
   "outputs": [],
   "source": [
    "arc_clean.drop(['doggo', 'floofer', 'pupper', 'puppo'], axis=1, inplace=True)"
   ]
  },
  {
   "cell_type": "markdown",
   "metadata": {},
   "source": [
    "## Define\n",
    "### Re-Extract the rating data( numerator and denominator) correctly from API (json_copy)\n",
    "##### 1) extract the rating from column 'full_text' in the json_copy\n",
    "\n",
    "##### 2) separte the two values (numerator/denominator) and stor them in 2 new data frames copied from the orginal frame\n",
    "\n",
    "##### 3) Merge operation \n",
    "\n",
    "##### 4) Merge operation again with the arc_clean dataframe \n"
   ]
  },
  {
   "cell_type": "markdown",
   "metadata": {},
   "source": [
    "## Code"
   ]
  },
  {
   "cell_type": "code",
   "execution_count": 530,
   "metadata": {},
   "outputs": [
    {
     "name": "stderr",
     "output_type": "stream",
     "text": [
      "C:\\ProgramData\\Anaconda3\\lib\\site-packages\\ipykernel_launcher.py:3: SettingWithCopyWarning: \n",
      "A value is trying to be set on a copy of a slice from a DataFrame.\n",
      "Try using .loc[row_indexer,col_indexer] = value instead\n",
      "\n",
      "See the caveats in the documentation: https://pandas.pydata.org/pandas-docs/stable/user_guide/indexing.html#returning-a-view-versus-a-copy\n",
      "  This is separate from the ipykernel package so we can avoid doing imports until\n"
     ]
    }
   ],
   "source": [
    "#extract the rating from column 'full_text' in the json_copy and make 2 copies \n",
    "ss= json_copy[['tweet_id','full_text']]\n",
    "ss['rating'] = ss['full_text'].str.extract('(\\d\\d?/\\d\\d?)')\n",
    "\n",
    "s1= ss.copy()\n",
    "s2= ss.copy()\n"
   ]
  },
  {
   "cell_type": "code",
   "execution_count": 531,
   "metadata": {},
   "outputs": [],
   "source": [
    "# split the two values (numerator/denominator) and store them in 2 new data frames copied from the orginal frame\n",
    "s1['rat_numerator']=s1['rating'].apply(lambda x: x.split('/')[0])\n",
    "s2['rat_denominator']=s2['rating'].apply(lambda x: x.split('/')[1])"
   ]
  },
  {
   "cell_type": "code",
   "execution_count": 532,
   "metadata": {},
   "outputs": [
    {
     "data": {
      "text/plain": [
       "0       10\n",
       "1       10\n",
       "2       10\n",
       "3       10\n",
       "4       10\n",
       "        ..\n",
       "2349    10\n",
       "2350    10\n",
       "2351    10\n",
       "2352    10\n",
       "2353    10\n",
       "Name: rat_denominator, Length: 2354, dtype: object"
      ]
     },
     "execution_count": 532,
     "metadata": {},
     "output_type": "execute_result"
    }
   ],
   "source": [
    "# Test\n",
    "s2['rat_denominator']"
   ]
  },
  {
   "cell_type": "code",
   "execution_count": 533,
   "metadata": {},
   "outputs": [],
   "source": [
    "#convert the types to float\n",
    "s1['rat_numerator']=s1['rat_numerator'].astype(float)\n",
    "s2['rat_denominator']=s2['rat_denominator'].astype(float)\n"
   ]
  },
  {
   "cell_type": "code",
   "execution_count": 534,
   "metadata": {},
   "outputs": [
    {
     "data": {
      "text/html": [
       "<div>\n",
       "<style scoped>\n",
       "    .dataframe tbody tr th:only-of-type {\n",
       "        vertical-align: middle;\n",
       "    }\n",
       "\n",
       "    .dataframe tbody tr th {\n",
       "        vertical-align: top;\n",
       "    }\n",
       "\n",
       "    .dataframe thead th {\n",
       "        text-align: right;\n",
       "    }\n",
       "</style>\n",
       "<table border=\"1\" class=\"dataframe\">\n",
       "  <thead>\n",
       "    <tr style=\"text-align: right;\">\n",
       "      <th></th>\n",
       "      <th>tweet_id</th>\n",
       "      <th>full_text</th>\n",
       "      <th>rating</th>\n",
       "      <th>rat_denominator</th>\n",
       "    </tr>\n",
       "  </thead>\n",
       "  <tbody>\n",
       "    <tr>\n",
       "      <th>0</th>\n",
       "      <td>892420643555336193</td>\n",
       "      <td>This is Phineas. He's a mystical boy. Only eve...</td>\n",
       "      <td>13/10</td>\n",
       "      <td>10.0</td>\n",
       "    </tr>\n",
       "    <tr>\n",
       "      <th>1</th>\n",
       "      <td>892177421306343426</td>\n",
       "      <td>This is Tilly. She's just checking pup on you....</td>\n",
       "      <td>13/10</td>\n",
       "      <td>10.0</td>\n",
       "    </tr>\n",
       "    <tr>\n",
       "      <th>2</th>\n",
       "      <td>891815181378084864</td>\n",
       "      <td>This is Archie. He is a rare Norwegian Pouncin...</td>\n",
       "      <td>12/10</td>\n",
       "      <td>10.0</td>\n",
       "    </tr>\n",
       "    <tr>\n",
       "      <th>3</th>\n",
       "      <td>891689557279858688</td>\n",
       "      <td>This is Darla. She commenced a snooze mid meal...</td>\n",
       "      <td>13/10</td>\n",
       "      <td>10.0</td>\n",
       "    </tr>\n",
       "    <tr>\n",
       "      <th>4</th>\n",
       "      <td>891327558926688256</td>\n",
       "      <td>This is Franklin. He would like you to stop ca...</td>\n",
       "      <td>12/10</td>\n",
       "      <td>10.0</td>\n",
       "    </tr>\n",
       "  </tbody>\n",
       "</table>\n",
       "</div>"
      ],
      "text/plain": [
       "             tweet_id                                          full_text  \\\n",
       "0  892420643555336193  This is Phineas. He's a mystical boy. Only eve...   \n",
       "1  892177421306343426  This is Tilly. She's just checking pup on you....   \n",
       "2  891815181378084864  This is Archie. He is a rare Norwegian Pouncin...   \n",
       "3  891689557279858688  This is Darla. She commenced a snooze mid meal...   \n",
       "4  891327558926688256  This is Franklin. He would like you to stop ca...   \n",
       "\n",
       "  rating  rat_denominator  \n",
       "0  13/10             10.0  \n",
       "1  13/10             10.0  \n",
       "2  12/10             10.0  \n",
       "3  13/10             10.0  \n",
       "4  12/10             10.0  "
      ]
     },
     "execution_count": 534,
     "metadata": {},
     "output_type": "execute_result"
    }
   ],
   "source": [
    "# test\n",
    "s2.head(5)"
   ]
  },
  {
   "cell_type": "code",
   "execution_count": 535,
   "metadata": {},
   "outputs": [],
   "source": [
    "#Merge operation to collect numerator column with the denominator column in one dataframe \n",
    "new_rows= pd.merge(s1,s2[['tweet_id','rat_denominator']],on='tweet_id',how='inner')\n"
   ]
  },
  {
   "cell_type": "code",
   "execution_count": 536,
   "metadata": {},
   "outputs": [
    {
     "data": {
      "text/html": [
       "<div>\n",
       "<style scoped>\n",
       "    .dataframe tbody tr th:only-of-type {\n",
       "        vertical-align: middle;\n",
       "    }\n",
       "\n",
       "    .dataframe tbody tr th {\n",
       "        vertical-align: top;\n",
       "    }\n",
       "\n",
       "    .dataframe thead th {\n",
       "        text-align: right;\n",
       "    }\n",
       "</style>\n",
       "<table border=\"1\" class=\"dataframe\">\n",
       "  <thead>\n",
       "    <tr style=\"text-align: right;\">\n",
       "      <th></th>\n",
       "      <th>tweet_id</th>\n",
       "      <th>full_text</th>\n",
       "      <th>rating</th>\n",
       "      <th>rat_numerator</th>\n",
       "      <th>rat_denominator</th>\n",
       "    </tr>\n",
       "  </thead>\n",
       "  <tbody>\n",
       "    <tr>\n",
       "      <th>0</th>\n",
       "      <td>892420643555336193</td>\n",
       "      <td>This is Phineas. He's a mystical boy. Only eve...</td>\n",
       "      <td>13/10</td>\n",
       "      <td>13.0</td>\n",
       "      <td>10.0</td>\n",
       "    </tr>\n",
       "    <tr>\n",
       "      <th>1</th>\n",
       "      <td>892177421306343426</td>\n",
       "      <td>This is Tilly. She's just checking pup on you....</td>\n",
       "      <td>13/10</td>\n",
       "      <td>13.0</td>\n",
       "      <td>10.0</td>\n",
       "    </tr>\n",
       "    <tr>\n",
       "      <th>2</th>\n",
       "      <td>891815181378084864</td>\n",
       "      <td>This is Archie. He is a rare Norwegian Pouncin...</td>\n",
       "      <td>12/10</td>\n",
       "      <td>12.0</td>\n",
       "      <td>10.0</td>\n",
       "    </tr>\n",
       "    <tr>\n",
       "      <th>3</th>\n",
       "      <td>891689557279858688</td>\n",
       "      <td>This is Darla. She commenced a snooze mid meal...</td>\n",
       "      <td>13/10</td>\n",
       "      <td>13.0</td>\n",
       "      <td>10.0</td>\n",
       "    </tr>\n",
       "    <tr>\n",
       "      <th>4</th>\n",
       "      <td>891327558926688256</td>\n",
       "      <td>This is Franklin. He would like you to stop ca...</td>\n",
       "      <td>12/10</td>\n",
       "      <td>12.0</td>\n",
       "      <td>10.0</td>\n",
       "    </tr>\n",
       "  </tbody>\n",
       "</table>\n",
       "</div>"
      ],
      "text/plain": [
       "             tweet_id                                          full_text  \\\n",
       "0  892420643555336193  This is Phineas. He's a mystical boy. Only eve...   \n",
       "1  892177421306343426  This is Tilly. She's just checking pup on you....   \n",
       "2  891815181378084864  This is Archie. He is a rare Norwegian Pouncin...   \n",
       "3  891689557279858688  This is Darla. She commenced a snooze mid meal...   \n",
       "4  891327558926688256  This is Franklin. He would like you to stop ca...   \n",
       "\n",
       "  rating  rat_numerator  rat_denominator  \n",
       "0  13/10           13.0             10.0  \n",
       "1  13/10           13.0             10.0  \n",
       "2  12/10           12.0             10.0  \n",
       "3  13/10           13.0             10.0  \n",
       "4  12/10           12.0             10.0  "
      ]
     },
     "execution_count": 536,
     "metadata": {},
     "output_type": "execute_result"
    }
   ],
   "source": [
    "#test\n",
    "new_rows.head(5)"
   ]
  },
  {
   "cell_type": "code",
   "execution_count": 537,
   "metadata": {},
   "outputs": [],
   "source": [
    "#Merge operation again to put the rating related data in arc_clean \n",
    "arc_clean= pd.merge(arc_clean,new_rows[['tweet_id','rat_numerator','rat_denominator']],on='tweet_id',how='left')"
   ]
  },
  {
   "cell_type": "markdown",
   "metadata": {},
   "source": [
    "### Test"
   ]
  },
  {
   "cell_type": "code",
   "execution_count": 538,
   "metadata": {},
   "outputs": [
    {
     "data": {
      "text/html": [
       "<div>\n",
       "<style scoped>\n",
       "    .dataframe tbody tr th:only-of-type {\n",
       "        vertical-align: middle;\n",
       "    }\n",
       "\n",
       "    .dataframe tbody tr th {\n",
       "        vertical-align: top;\n",
       "    }\n",
       "\n",
       "    .dataframe thead th {\n",
       "        text-align: right;\n",
       "    }\n",
       "</style>\n",
       "<table border=\"1\" class=\"dataframe\">\n",
       "  <thead>\n",
       "    <tr style=\"text-align: right;\">\n",
       "      <th></th>\n",
       "      <th>tweet_id</th>\n",
       "      <th>in_reply_to_status_id</th>\n",
       "      <th>in_reply_to_user_id</th>\n",
       "      <th>timestamp</th>\n",
       "      <th>source</th>\n",
       "      <th>text</th>\n",
       "      <th>expanded_urls</th>\n",
       "      <th>rating_numerator</th>\n",
       "      <th>rating_denominator</th>\n",
       "      <th>name</th>\n",
       "      <th>time_stamp</th>\n",
       "      <th>favorite_count</th>\n",
       "      <th>retweet_count</th>\n",
       "      <th>stage</th>\n",
       "      <th>rat_numerator</th>\n",
       "      <th>rat_denominator</th>\n",
       "    </tr>\n",
       "  </thead>\n",
       "  <tbody>\n",
       "    <tr>\n",
       "      <th>0</th>\n",
       "      <td>892177421306343426</td>\n",
       "      <td>NaN</td>\n",
       "      <td>NaN</td>\n",
       "      <td>2017-08-01 00:17:27 +0000</td>\n",
       "      <td>http://twitter.com/download/iphone</td>\n",
       "      <td>This is Tilly. She's just checking pup on you....</td>\n",
       "      <td>https://twitter.com/dog_rates/status/892177421...</td>\n",
       "      <td>13.0</td>\n",
       "      <td>10.0</td>\n",
       "      <td>Tilly</td>\n",
       "      <td>2017-08-01 00:17:27+00:00</td>\n",
       "      <td>33819</td>\n",
       "      <td>6514</td>\n",
       "      <td>None</td>\n",
       "      <td>13.0</td>\n",
       "      <td>10.0</td>\n",
       "    </tr>\n",
       "    <tr>\n",
       "      <th>1</th>\n",
       "      <td>891815181378084864</td>\n",
       "      <td>NaN</td>\n",
       "      <td>NaN</td>\n",
       "      <td>2017-07-31 00:18:03 +0000</td>\n",
       "      <td>http://twitter.com/download/iphone</td>\n",
       "      <td>This is Archie. He is a rare Norwegian Pouncin...</td>\n",
       "      <td>https://twitter.com/dog_rates/status/891815181...</td>\n",
       "      <td>12.0</td>\n",
       "      <td>10.0</td>\n",
       "      <td>Archie</td>\n",
       "      <td>2017-07-31 00:18:03+00:00</td>\n",
       "      <td>25461</td>\n",
       "      <td>4328</td>\n",
       "      <td>None</td>\n",
       "      <td>12.0</td>\n",
       "      <td>10.0</td>\n",
       "    </tr>\n",
       "    <tr>\n",
       "      <th>2</th>\n",
       "      <td>891689557279858688</td>\n",
       "      <td>NaN</td>\n",
       "      <td>NaN</td>\n",
       "      <td>2017-07-30 15:58:51 +0000</td>\n",
       "      <td>http://twitter.com/download/iphone</td>\n",
       "      <td>This is Darla. She commenced a snooze mid meal...</td>\n",
       "      <td>https://twitter.com/dog_rates/status/891689557...</td>\n",
       "      <td>13.0</td>\n",
       "      <td>10.0</td>\n",
       "      <td>Darla</td>\n",
       "      <td>2017-07-30 15:58:51+00:00</td>\n",
       "      <td>42908</td>\n",
       "      <td>8964</td>\n",
       "      <td>None</td>\n",
       "      <td>13.0</td>\n",
       "      <td>10.0</td>\n",
       "    </tr>\n",
       "    <tr>\n",
       "      <th>3</th>\n",
       "      <td>891327558926688256</td>\n",
       "      <td>NaN</td>\n",
       "      <td>NaN</td>\n",
       "      <td>2017-07-29 16:00:24 +0000</td>\n",
       "      <td>http://twitter.com/download/iphone</td>\n",
       "      <td>This is Franklin. He would like you to stop ca...</td>\n",
       "      <td>https://twitter.com/dog_rates/status/891327558...</td>\n",
       "      <td>12.0</td>\n",
       "      <td>10.0</td>\n",
       "      <td>Franklin</td>\n",
       "      <td>2017-07-29 16:00:24+00:00</td>\n",
       "      <td>41048</td>\n",
       "      <td>9774</td>\n",
       "      <td>None</td>\n",
       "      <td>12.0</td>\n",
       "      <td>10.0</td>\n",
       "    </tr>\n",
       "    <tr>\n",
       "      <th>4</th>\n",
       "      <td>891087950875897856</td>\n",
       "      <td>NaN</td>\n",
       "      <td>NaN</td>\n",
       "      <td>2017-07-29 00:08:17 +0000</td>\n",
       "      <td>http://twitter.com/download/iphone</td>\n",
       "      <td>Here we have a majestic great white breaching ...</td>\n",
       "      <td>https://twitter.com/dog_rates/status/891087950...</td>\n",
       "      <td>13.0</td>\n",
       "      <td>10.0</td>\n",
       "      <td>None</td>\n",
       "      <td>2017-07-29 00:08:17+00:00</td>\n",
       "      <td>20562</td>\n",
       "      <td>3261</td>\n",
       "      <td>None</td>\n",
       "      <td>13.0</td>\n",
       "      <td>10.0</td>\n",
       "    </tr>\n",
       "  </tbody>\n",
       "</table>\n",
       "</div>"
      ],
      "text/plain": [
       "             tweet_id  in_reply_to_status_id  in_reply_to_user_id  \\\n",
       "0  892177421306343426                    NaN                  NaN   \n",
       "1  891815181378084864                    NaN                  NaN   \n",
       "2  891689557279858688                    NaN                  NaN   \n",
       "3  891327558926688256                    NaN                  NaN   \n",
       "4  891087950875897856                    NaN                  NaN   \n",
       "\n",
       "                   timestamp                              source  \\\n",
       "0  2017-08-01 00:17:27 +0000  http://twitter.com/download/iphone   \n",
       "1  2017-07-31 00:18:03 +0000  http://twitter.com/download/iphone   \n",
       "2  2017-07-30 15:58:51 +0000  http://twitter.com/download/iphone   \n",
       "3  2017-07-29 16:00:24 +0000  http://twitter.com/download/iphone   \n",
       "4  2017-07-29 00:08:17 +0000  http://twitter.com/download/iphone   \n",
       "\n",
       "                                                text  \\\n",
       "0  This is Tilly. She's just checking pup on you....   \n",
       "1  This is Archie. He is a rare Norwegian Pouncin...   \n",
       "2  This is Darla. She commenced a snooze mid meal...   \n",
       "3  This is Franklin. He would like you to stop ca...   \n",
       "4  Here we have a majestic great white breaching ...   \n",
       "\n",
       "                                       expanded_urls  rating_numerator  \\\n",
       "0  https://twitter.com/dog_rates/status/892177421...              13.0   \n",
       "1  https://twitter.com/dog_rates/status/891815181...              12.0   \n",
       "2  https://twitter.com/dog_rates/status/891689557...              13.0   \n",
       "3  https://twitter.com/dog_rates/status/891327558...              12.0   \n",
       "4  https://twitter.com/dog_rates/status/891087950...              13.0   \n",
       "\n",
       "   rating_denominator      name                time_stamp  favorite_count  \\\n",
       "0                10.0     Tilly 2017-08-01 00:17:27+00:00           33819   \n",
       "1                10.0    Archie 2017-07-31 00:18:03+00:00           25461   \n",
       "2                10.0     Darla 2017-07-30 15:58:51+00:00           42908   \n",
       "3                10.0  Franklin 2017-07-29 16:00:24+00:00           41048   \n",
       "4                10.0      None 2017-07-29 00:08:17+00:00           20562   \n",
       "\n",
       "   retweet_count stage  rat_numerator  rat_denominator  \n",
       "0           6514  None           13.0             10.0  \n",
       "1           4328  None           12.0             10.0  \n",
       "2           8964  None           13.0             10.0  \n",
       "3           9774  None           12.0             10.0  \n",
       "4           3261  None           13.0             10.0  "
      ]
     },
     "execution_count": 538,
     "metadata": {},
     "output_type": "execute_result"
    }
   ],
   "source": [
    "arc_clean.head(5)"
   ]
  },
  {
   "cell_type": "markdown",
   "metadata": {},
   "source": [
    "#### Drop the old errornous rating columns "
   ]
  },
  {
   "cell_type": "code",
   "execution_count": 539,
   "metadata": {},
   "outputs": [],
   "source": [
    "arc_clean.drop(['rating_numerator', 'rating_denominator'], axis=1, inplace=True)"
   ]
  },
  {
   "cell_type": "markdown",
   "metadata": {},
   "source": [
    "### Define \n",
    "### In some of the tweets, there is no data about the stage of dogs.\n",
    "\n",
    "### In this case, give a name for the dog stage as \"Not_determined\""
   ]
  },
  {
   "cell_type": "code",
   "execution_count": 540,
   "metadata": {},
   "outputs": [],
   "source": [
    "arc_clean['stage'].replace('None','Not_determined',inplace= True)"
   ]
  },
  {
   "cell_type": "code",
   "execution_count": 541,
   "metadata": {},
   "outputs": [
    {
     "data": {
      "text/html": [
       "<div>\n",
       "<style scoped>\n",
       "    .dataframe tbody tr th:only-of-type {\n",
       "        vertical-align: middle;\n",
       "    }\n",
       "\n",
       "    .dataframe tbody tr th {\n",
       "        vertical-align: top;\n",
       "    }\n",
       "\n",
       "    .dataframe thead th {\n",
       "        text-align: right;\n",
       "    }\n",
       "</style>\n",
       "<table border=\"1\" class=\"dataframe\">\n",
       "  <thead>\n",
       "    <tr style=\"text-align: right;\">\n",
       "      <th></th>\n",
       "      <th>tweet_id</th>\n",
       "      <th>in_reply_to_status_id</th>\n",
       "      <th>in_reply_to_user_id</th>\n",
       "      <th>timestamp</th>\n",
       "      <th>source</th>\n",
       "      <th>text</th>\n",
       "      <th>expanded_urls</th>\n",
       "      <th>name</th>\n",
       "      <th>time_stamp</th>\n",
       "      <th>favorite_count</th>\n",
       "      <th>retweet_count</th>\n",
       "      <th>stage</th>\n",
       "      <th>rat_numerator</th>\n",
       "      <th>rat_denominator</th>\n",
       "    </tr>\n",
       "  </thead>\n",
       "  <tbody>\n",
       "    <tr>\n",
       "      <th>0</th>\n",
       "      <td>892177421306343426</td>\n",
       "      <td>NaN</td>\n",
       "      <td>NaN</td>\n",
       "      <td>2017-08-01 00:17:27 +0000</td>\n",
       "      <td>http://twitter.com/download/iphone</td>\n",
       "      <td>This is Tilly. She's just checking pup on you....</td>\n",
       "      <td>https://twitter.com/dog_rates/status/892177421...</td>\n",
       "      <td>Tilly</td>\n",
       "      <td>2017-08-01 00:17:27+00:00</td>\n",
       "      <td>33819</td>\n",
       "      <td>6514</td>\n",
       "      <td>Not_determined</td>\n",
       "      <td>13.0</td>\n",
       "      <td>10.0</td>\n",
       "    </tr>\n",
       "    <tr>\n",
       "      <th>1</th>\n",
       "      <td>891815181378084864</td>\n",
       "      <td>NaN</td>\n",
       "      <td>NaN</td>\n",
       "      <td>2017-07-31 00:18:03 +0000</td>\n",
       "      <td>http://twitter.com/download/iphone</td>\n",
       "      <td>This is Archie. He is a rare Norwegian Pouncin...</td>\n",
       "      <td>https://twitter.com/dog_rates/status/891815181...</td>\n",
       "      <td>Archie</td>\n",
       "      <td>2017-07-31 00:18:03+00:00</td>\n",
       "      <td>25461</td>\n",
       "      <td>4328</td>\n",
       "      <td>Not_determined</td>\n",
       "      <td>12.0</td>\n",
       "      <td>10.0</td>\n",
       "    </tr>\n",
       "    <tr>\n",
       "      <th>2</th>\n",
       "      <td>891689557279858688</td>\n",
       "      <td>NaN</td>\n",
       "      <td>NaN</td>\n",
       "      <td>2017-07-30 15:58:51 +0000</td>\n",
       "      <td>http://twitter.com/download/iphone</td>\n",
       "      <td>This is Darla. She commenced a snooze mid meal...</td>\n",
       "      <td>https://twitter.com/dog_rates/status/891689557...</td>\n",
       "      <td>Darla</td>\n",
       "      <td>2017-07-30 15:58:51+00:00</td>\n",
       "      <td>42908</td>\n",
       "      <td>8964</td>\n",
       "      <td>Not_determined</td>\n",
       "      <td>13.0</td>\n",
       "      <td>10.0</td>\n",
       "    </tr>\n",
       "    <tr>\n",
       "      <th>3</th>\n",
       "      <td>891327558926688256</td>\n",
       "      <td>NaN</td>\n",
       "      <td>NaN</td>\n",
       "      <td>2017-07-29 16:00:24 +0000</td>\n",
       "      <td>http://twitter.com/download/iphone</td>\n",
       "      <td>This is Franklin. He would like you to stop ca...</td>\n",
       "      <td>https://twitter.com/dog_rates/status/891327558...</td>\n",
       "      <td>Franklin</td>\n",
       "      <td>2017-07-29 16:00:24+00:00</td>\n",
       "      <td>41048</td>\n",
       "      <td>9774</td>\n",
       "      <td>Not_determined</td>\n",
       "      <td>12.0</td>\n",
       "      <td>10.0</td>\n",
       "    </tr>\n",
       "    <tr>\n",
       "      <th>4</th>\n",
       "      <td>891087950875897856</td>\n",
       "      <td>NaN</td>\n",
       "      <td>NaN</td>\n",
       "      <td>2017-07-29 00:08:17 +0000</td>\n",
       "      <td>http://twitter.com/download/iphone</td>\n",
       "      <td>Here we have a majestic great white breaching ...</td>\n",
       "      <td>https://twitter.com/dog_rates/status/891087950...</td>\n",
       "      <td>None</td>\n",
       "      <td>2017-07-29 00:08:17+00:00</td>\n",
       "      <td>20562</td>\n",
       "      <td>3261</td>\n",
       "      <td>Not_determined</td>\n",
       "      <td>13.0</td>\n",
       "      <td>10.0</td>\n",
       "    </tr>\n",
       "    <tr>\n",
       "      <th>5</th>\n",
       "      <td>890971913173991426</td>\n",
       "      <td>NaN</td>\n",
       "      <td>NaN</td>\n",
       "      <td>2017-07-28 16:27:12 +0000</td>\n",
       "      <td>http://twitter.com/download/iphone</td>\n",
       "      <td>Meet Jax. He enjoys ice cream so much he gets ...</td>\n",
       "      <td>https://gofundme.com/ydvmve-surgery-for-jax,ht...</td>\n",
       "      <td>Jax</td>\n",
       "      <td>2017-07-28 16:27:12+00:00</td>\n",
       "      <td>12041</td>\n",
       "      <td>2158</td>\n",
       "      <td>Not_determined</td>\n",
       "      <td>13.0</td>\n",
       "      <td>10.0</td>\n",
       "    </tr>\n",
       "    <tr>\n",
       "      <th>6</th>\n",
       "      <td>890729181411237888</td>\n",
       "      <td>NaN</td>\n",
       "      <td>NaN</td>\n",
       "      <td>2017-07-28 00:22:40 +0000</td>\n",
       "      <td>http://twitter.com/download/iphone</td>\n",
       "      <td>When you watch your owner call another dog a g...</td>\n",
       "      <td>https://twitter.com/dog_rates/status/890729181...</td>\n",
       "      <td>None</td>\n",
       "      <td>2017-07-28 00:22:40+00:00</td>\n",
       "      <td>56848</td>\n",
       "      <td>16716</td>\n",
       "      <td>Not_determined</td>\n",
       "      <td>13.0</td>\n",
       "      <td>10.0</td>\n",
       "    </tr>\n",
       "    <tr>\n",
       "      <th>7</th>\n",
       "      <td>890609185150312448</td>\n",
       "      <td>NaN</td>\n",
       "      <td>NaN</td>\n",
       "      <td>2017-07-27 16:25:51 +0000</td>\n",
       "      <td>http://twitter.com/download/iphone</td>\n",
       "      <td>This is Zoey. She doesn't want to be one of th...</td>\n",
       "      <td>https://twitter.com/dog_rates/status/890609185...</td>\n",
       "      <td>Zoey</td>\n",
       "      <td>2017-07-27 16:25:51+00:00</td>\n",
       "      <td>28226</td>\n",
       "      <td>4429</td>\n",
       "      <td>Not_determined</td>\n",
       "      <td>13.0</td>\n",
       "      <td>10.0</td>\n",
       "    </tr>\n",
       "    <tr>\n",
       "      <th>8</th>\n",
       "      <td>890240255349198849</td>\n",
       "      <td>NaN</td>\n",
       "      <td>NaN</td>\n",
       "      <td>2017-07-26 15:59:51 +0000</td>\n",
       "      <td>http://twitter.com/download/iphone</td>\n",
       "      <td>This is Cassie. She is a college pup. Studying...</td>\n",
       "      <td>https://twitter.com/dog_rates/status/890240255...</td>\n",
       "      <td>Cassie</td>\n",
       "      <td>2017-07-26 15:59:51+00:00</td>\n",
       "      <td>32467</td>\n",
       "      <td>7711</td>\n",
       "      <td>doggo</td>\n",
       "      <td>14.0</td>\n",
       "      <td>10.0</td>\n",
       "    </tr>\n",
       "    <tr>\n",
       "      <th>9</th>\n",
       "      <td>890006608113172480</td>\n",
       "      <td>NaN</td>\n",
       "      <td>NaN</td>\n",
       "      <td>2017-07-26 00:31:25 +0000</td>\n",
       "      <td>http://twitter.com/download/iphone</td>\n",
       "      <td>This is Koda. He is a South Australian decksha...</td>\n",
       "      <td>https://twitter.com/dog_rates/status/890006608...</td>\n",
       "      <td>Koda</td>\n",
       "      <td>2017-07-26 00:31:25+00:00</td>\n",
       "      <td>31166</td>\n",
       "      <td>7624</td>\n",
       "      <td>Not_determined</td>\n",
       "      <td>13.0</td>\n",
       "      <td>10.0</td>\n",
       "    </tr>\n",
       "    <tr>\n",
       "      <th>10</th>\n",
       "      <td>889880896479866881</td>\n",
       "      <td>NaN</td>\n",
       "      <td>NaN</td>\n",
       "      <td>2017-07-25 16:11:53 +0000</td>\n",
       "      <td>http://twitter.com/download/iphone</td>\n",
       "      <td>This is Bruno. He is a service shark. Only get...</td>\n",
       "      <td>https://twitter.com/dog_rates/status/889880896...</td>\n",
       "      <td>Bruno</td>\n",
       "      <td>2017-07-25 16:11:53+00:00</td>\n",
       "      <td>28268</td>\n",
       "      <td>5156</td>\n",
       "      <td>Not_determined</td>\n",
       "      <td>13.0</td>\n",
       "      <td>10.0</td>\n",
       "    </tr>\n",
       "    <tr>\n",
       "      <th>11</th>\n",
       "      <td>889665388333682689</td>\n",
       "      <td>NaN</td>\n",
       "      <td>NaN</td>\n",
       "      <td>2017-07-25 01:55:32 +0000</td>\n",
       "      <td>http://twitter.com/download/iphone</td>\n",
       "      <td>Here's a puppo that seems to be on the fence a...</td>\n",
       "      <td>https://twitter.com/dog_rates/status/889665388...</td>\n",
       "      <td>None</td>\n",
       "      <td>2017-07-25 01:55:32+00:00</td>\n",
       "      <td>38818</td>\n",
       "      <td>8538</td>\n",
       "      <td>puppo</td>\n",
       "      <td>13.0</td>\n",
       "      <td>10.0</td>\n",
       "    </tr>\n",
       "    <tr>\n",
       "      <th>12</th>\n",
       "      <td>889638837579907072</td>\n",
       "      <td>NaN</td>\n",
       "      <td>NaN</td>\n",
       "      <td>2017-07-25 00:10:02 +0000</td>\n",
       "      <td>http://twitter.com/download/iphone</td>\n",
       "      <td>This is Ted. He does his best. Sometimes that'...</td>\n",
       "      <td>https://twitter.com/dog_rates/status/889638837...</td>\n",
       "      <td>Ted</td>\n",
       "      <td>2017-07-25 00:10:02+00:00</td>\n",
       "      <td>27672</td>\n",
       "      <td>4735</td>\n",
       "      <td>Not_determined</td>\n",
       "      <td>12.0</td>\n",
       "      <td>10.0</td>\n",
       "    </tr>\n",
       "    <tr>\n",
       "      <th>13</th>\n",
       "      <td>889531135344209921</td>\n",
       "      <td>NaN</td>\n",
       "      <td>NaN</td>\n",
       "      <td>2017-07-24 17:02:04 +0000</td>\n",
       "      <td>http://twitter.com/download/iphone</td>\n",
       "      <td>This is Stuart. He's sporting his favorite fan...</td>\n",
       "      <td>https://twitter.com/dog_rates/status/889531135...</td>\n",
       "      <td>Stuart</td>\n",
       "      <td>2017-07-24 17:02:04+00:00</td>\n",
       "      <td>15359</td>\n",
       "      <td>2321</td>\n",
       "      <td>puppo</td>\n",
       "      <td>13.0</td>\n",
       "      <td>10.0</td>\n",
       "    </tr>\n",
       "    <tr>\n",
       "      <th>14</th>\n",
       "      <td>889278841981685760</td>\n",
       "      <td>NaN</td>\n",
       "      <td>NaN</td>\n",
       "      <td>2017-07-24 00:19:32 +0000</td>\n",
       "      <td>http://twitter.com/download/iphone</td>\n",
       "      <td>This is Oliver. You're witnessing one of his m...</td>\n",
       "      <td>https://twitter.com/dog_rates/status/889278841...</td>\n",
       "      <td>Oliver</td>\n",
       "      <td>2017-07-24 00:19:32+00:00</td>\n",
       "      <td>25652</td>\n",
       "      <td>5637</td>\n",
       "      <td>Not_determined</td>\n",
       "      <td>13.0</td>\n",
       "      <td>10.0</td>\n",
       "    </tr>\n",
       "    <tr>\n",
       "      <th>15</th>\n",
       "      <td>888917238123831296</td>\n",
       "      <td>NaN</td>\n",
       "      <td>NaN</td>\n",
       "      <td>2017-07-23 00:22:39 +0000</td>\n",
       "      <td>http://twitter.com/download/iphone</td>\n",
       "      <td>This is Jim. He found a fren. Taught him how t...</td>\n",
       "      <td>https://twitter.com/dog_rates/status/888917238...</td>\n",
       "      <td>Jim</td>\n",
       "      <td>2017-07-23 00:22:39+00:00</td>\n",
       "      <td>29611</td>\n",
       "      <td>4709</td>\n",
       "      <td>Not_determined</td>\n",
       "      <td>12.0</td>\n",
       "      <td>10.0</td>\n",
       "    </tr>\n",
       "    <tr>\n",
       "      <th>16</th>\n",
       "      <td>888804989199671297</td>\n",
       "      <td>NaN</td>\n",
       "      <td>NaN</td>\n",
       "      <td>2017-07-22 16:56:37 +0000</td>\n",
       "      <td>http://twitter.com/download/iphone</td>\n",
       "      <td>This is Zeke. He has a new stick. Very proud o...</td>\n",
       "      <td>https://twitter.com/dog_rates/status/888804989...</td>\n",
       "      <td>Zeke</td>\n",
       "      <td>2017-07-22 16:56:37+00:00</td>\n",
       "      <td>26080</td>\n",
       "      <td>4559</td>\n",
       "      <td>Not_determined</td>\n",
       "      <td>13.0</td>\n",
       "      <td>10.0</td>\n",
       "    </tr>\n",
       "    <tr>\n",
       "      <th>17</th>\n",
       "      <td>888554962724278272</td>\n",
       "      <td>NaN</td>\n",
       "      <td>NaN</td>\n",
       "      <td>2017-07-22 00:23:06 +0000</td>\n",
       "      <td>http://twitter.com/download/iphone</td>\n",
       "      <td>This is Ralphus. He's powering up. Attempting ...</td>\n",
       "      <td>https://twitter.com/dog_rates/status/888554962...</td>\n",
       "      <td>Ralphus</td>\n",
       "      <td>2017-07-22 00:23:06+00:00</td>\n",
       "      <td>20290</td>\n",
       "      <td>3732</td>\n",
       "      <td>Not_determined</td>\n",
       "      <td>13.0</td>\n",
       "      <td>10.0</td>\n",
       "    </tr>\n",
       "    <tr>\n",
       "      <th>18</th>\n",
       "      <td>888078434458587136</td>\n",
       "      <td>NaN</td>\n",
       "      <td>NaN</td>\n",
       "      <td>2017-07-20 16:49:33 +0000</td>\n",
       "      <td>http://twitter.com/download/iphone</td>\n",
       "      <td>This is Gerald. He was just told he didn't get...</td>\n",
       "      <td>https://twitter.com/dog_rates/status/888078434...</td>\n",
       "      <td>Gerald</td>\n",
       "      <td>2017-07-20 16:49:33+00:00</td>\n",
       "      <td>22201</td>\n",
       "      <td>3653</td>\n",
       "      <td>Not_determined</td>\n",
       "      <td>12.0</td>\n",
       "      <td>10.0</td>\n",
       "    </tr>\n",
       "    <tr>\n",
       "      <th>19</th>\n",
       "      <td>887705289381826560</td>\n",
       "      <td>NaN</td>\n",
       "      <td>NaN</td>\n",
       "      <td>2017-07-19 16:06:48 +0000</td>\n",
       "      <td>http://twitter.com/download/iphone</td>\n",
       "      <td>This is Jeffrey. He has a monopoly on the pool...</td>\n",
       "      <td>https://twitter.com/dog_rates/status/887705289...</td>\n",
       "      <td>Jeffrey</td>\n",
       "      <td>2017-07-19 16:06:48+00:00</td>\n",
       "      <td>30779</td>\n",
       "      <td>5609</td>\n",
       "      <td>Not_determined</td>\n",
       "      <td>13.0</td>\n",
       "      <td>10.0</td>\n",
       "    </tr>\n",
       "    <tr>\n",
       "      <th>20</th>\n",
       "      <td>887473957103951883</td>\n",
       "      <td>NaN</td>\n",
       "      <td>NaN</td>\n",
       "      <td>2017-07-19 00:47:34 +0000</td>\n",
       "      <td>http://twitter.com/download/iphone</td>\n",
       "      <td>This is Canela. She attempted some fancy porch...</td>\n",
       "      <td>https://twitter.com/dog_rates/status/887473957...</td>\n",
       "      <td>Canela</td>\n",
       "      <td>2017-07-19 00:47:34+00:00</td>\n",
       "      <td>69871</td>\n",
       "      <td>18781</td>\n",
       "      <td>Not_determined</td>\n",
       "      <td>13.0</td>\n",
       "      <td>10.0</td>\n",
       "    </tr>\n",
       "    <tr>\n",
       "      <th>21</th>\n",
       "      <td>887343217045368832</td>\n",
       "      <td>NaN</td>\n",
       "      <td>NaN</td>\n",
       "      <td>2017-07-18 16:08:03 +0000</td>\n",
       "      <td>http://twitter.com/download/iphone</td>\n",
       "      <td>You may not have known you needed to see this ...</td>\n",
       "      <td>https://twitter.com/dog_rates/status/887343217...</td>\n",
       "      <td>None</td>\n",
       "      <td>2017-07-18 16:08:03+00:00</td>\n",
       "      <td>34222</td>\n",
       "      <td>10737</td>\n",
       "      <td>Not_determined</td>\n",
       "      <td>13.0</td>\n",
       "      <td>10.0</td>\n",
       "    </tr>\n",
       "    <tr>\n",
       "      <th>22</th>\n",
       "      <td>887101392804085760</td>\n",
       "      <td>NaN</td>\n",
       "      <td>NaN</td>\n",
       "      <td>2017-07-18 00:07:08 +0000</td>\n",
       "      <td>http://twitter.com/download/iphone</td>\n",
       "      <td>This... is a Jubilant Antarctic House Bear. We...</td>\n",
       "      <td>https://twitter.com/dog_rates/status/887101392...</td>\n",
       "      <td>None</td>\n",
       "      <td>2017-07-18 00:07:08+00:00</td>\n",
       "      <td>31061</td>\n",
       "      <td>6167</td>\n",
       "      <td>Not_determined</td>\n",
       "      <td>12.0</td>\n",
       "      <td>10.0</td>\n",
       "    </tr>\n",
       "    <tr>\n",
       "      <th>23</th>\n",
       "      <td>886983233522544640</td>\n",
       "      <td>NaN</td>\n",
       "      <td>NaN</td>\n",
       "      <td>2017-07-17 16:17:36 +0000</td>\n",
       "      <td>http://twitter.com/download/iphone</td>\n",
       "      <td>This is Maya. She's very shy. Rarely leaves he...</td>\n",
       "      <td>https://twitter.com/dog_rates/status/886983233...</td>\n",
       "      <td>Maya</td>\n",
       "      <td>2017-07-17 16:17:36+00:00</td>\n",
       "      <td>35859</td>\n",
       "      <td>8084</td>\n",
       "      <td>Not_determined</td>\n",
       "      <td>13.0</td>\n",
       "      <td>10.0</td>\n",
       "    </tr>\n",
       "    <tr>\n",
       "      <th>24</th>\n",
       "      <td>886736880519319552</td>\n",
       "      <td>NaN</td>\n",
       "      <td>NaN</td>\n",
       "      <td>2017-07-16 23:58:41 +0000</td>\n",
       "      <td>http://twitter.com/download/iphone</td>\n",
       "      <td>This is Mingus. He's a wonderful father to his...</td>\n",
       "      <td>https://www.gofundme.com/mingusneedsus,https:/...</td>\n",
       "      <td>Mingus</td>\n",
       "      <td>2017-07-16 23:58:41+00:00</td>\n",
       "      <td>12306</td>\n",
       "      <td>3443</td>\n",
       "      <td>Not_determined</td>\n",
       "      <td>13.0</td>\n",
       "      <td>10.0</td>\n",
       "    </tr>\n",
       "    <tr>\n",
       "      <th>25</th>\n",
       "      <td>886366144734445568</td>\n",
       "      <td>NaN</td>\n",
       "      <td>NaN</td>\n",
       "      <td>2017-07-15 23:25:31 +0000</td>\n",
       "      <td>http://twitter.com/download/iphone</td>\n",
       "      <td>This is Roscoe. Another pupper fallen victim t...</td>\n",
       "      <td>https://twitter.com/dog_rates/status/886366144...</td>\n",
       "      <td>Roscoe</td>\n",
       "      <td>2017-07-15 23:25:31+00:00</td>\n",
       "      <td>21524</td>\n",
       "      <td>3316</td>\n",
       "      <td>pupper</td>\n",
       "      <td>12.0</td>\n",
       "      <td>10.0</td>\n",
       "    </tr>\n",
       "    <tr>\n",
       "      <th>26</th>\n",
       "      <td>886258384151887873</td>\n",
       "      <td>NaN</td>\n",
       "      <td>NaN</td>\n",
       "      <td>2017-07-15 16:17:19 +0000</td>\n",
       "      <td>http://twitter.com/download/iphone</td>\n",
       "      <td>This is Waffles. His doggles are pupside down....</td>\n",
       "      <td>https://twitter.com/dog_rates/status/886258384...</td>\n",
       "      <td>Waffles</td>\n",
       "      <td>2017-07-15 16:17:19+00:00</td>\n",
       "      <td>28469</td>\n",
       "      <td>6523</td>\n",
       "      <td>Not_determined</td>\n",
       "      <td>13.0</td>\n",
       "      <td>10.0</td>\n",
       "    </tr>\n",
       "    <tr>\n",
       "      <th>27</th>\n",
       "      <td>885984800019947520</td>\n",
       "      <td>NaN</td>\n",
       "      <td>NaN</td>\n",
       "      <td>2017-07-14 22:10:11 +0000</td>\n",
       "      <td>http://twitter.com/download/iphone</td>\n",
       "      <td>Viewer discretion advised. This is Jimbo. He w...</td>\n",
       "      <td>https://twitter.com/dog_rates/status/885984800...</td>\n",
       "      <td>Jimbo</td>\n",
       "      <td>2017-07-14 22:10:11+00:00</td>\n",
       "      <td>33382</td>\n",
       "      <td>7097</td>\n",
       "      <td>Not_determined</td>\n",
       "      <td>12.0</td>\n",
       "      <td>10.0</td>\n",
       "    </tr>\n",
       "    <tr>\n",
       "      <th>28</th>\n",
       "      <td>885528943205470208</td>\n",
       "      <td>NaN</td>\n",
       "      <td>NaN</td>\n",
       "      <td>2017-07-13 15:58:47 +0000</td>\n",
       "      <td>http://twitter.com/download/iphone</td>\n",
       "      <td>This is Maisey. She fell asleep mid-excavation...</td>\n",
       "      <td>https://twitter.com/dog_rates/status/885528943...</td>\n",
       "      <td>Maisey</td>\n",
       "      <td>2017-07-13 15:58:47+00:00</td>\n",
       "      <td>36689</td>\n",
       "      <td>6683</td>\n",
       "      <td>Not_determined</td>\n",
       "      <td>13.0</td>\n",
       "      <td>10.0</td>\n",
       "    </tr>\n",
       "    <tr>\n",
       "      <th>29</th>\n",
       "      <td>885167619883638784</td>\n",
       "      <td>NaN</td>\n",
       "      <td>NaN</td>\n",
       "      <td>2017-07-12 16:03:00 +0000</td>\n",
       "      <td>http://twitter.com/download/iphone</td>\n",
       "      <td>Here we have a corgi undercover as a malamute....</td>\n",
       "      <td>https://twitter.com/dog_rates/status/885167619...</td>\n",
       "      <td>None</td>\n",
       "      <td>2017-07-12 16:03:00+00:00</td>\n",
       "      <td>22367</td>\n",
       "      <td>4556</td>\n",
       "      <td>Not_determined</td>\n",
       "      <td>13.0</td>\n",
       "      <td>10.0</td>\n",
       "    </tr>\n",
       "  </tbody>\n",
       "</table>\n",
       "</div>"
      ],
      "text/plain": [
       "              tweet_id  in_reply_to_status_id  in_reply_to_user_id  \\\n",
       "0   892177421306343426                    NaN                  NaN   \n",
       "1   891815181378084864                    NaN                  NaN   \n",
       "2   891689557279858688                    NaN                  NaN   \n",
       "3   891327558926688256                    NaN                  NaN   \n",
       "4   891087950875897856                    NaN                  NaN   \n",
       "5   890971913173991426                    NaN                  NaN   \n",
       "6   890729181411237888                    NaN                  NaN   \n",
       "7   890609185150312448                    NaN                  NaN   \n",
       "8   890240255349198849                    NaN                  NaN   \n",
       "9   890006608113172480                    NaN                  NaN   \n",
       "10  889880896479866881                    NaN                  NaN   \n",
       "11  889665388333682689                    NaN                  NaN   \n",
       "12  889638837579907072                    NaN                  NaN   \n",
       "13  889531135344209921                    NaN                  NaN   \n",
       "14  889278841981685760                    NaN                  NaN   \n",
       "15  888917238123831296                    NaN                  NaN   \n",
       "16  888804989199671297                    NaN                  NaN   \n",
       "17  888554962724278272                    NaN                  NaN   \n",
       "18  888078434458587136                    NaN                  NaN   \n",
       "19  887705289381826560                    NaN                  NaN   \n",
       "20  887473957103951883                    NaN                  NaN   \n",
       "21  887343217045368832                    NaN                  NaN   \n",
       "22  887101392804085760                    NaN                  NaN   \n",
       "23  886983233522544640                    NaN                  NaN   \n",
       "24  886736880519319552                    NaN                  NaN   \n",
       "25  886366144734445568                    NaN                  NaN   \n",
       "26  886258384151887873                    NaN                  NaN   \n",
       "27  885984800019947520                    NaN                  NaN   \n",
       "28  885528943205470208                    NaN                  NaN   \n",
       "29  885167619883638784                    NaN                  NaN   \n",
       "\n",
       "                    timestamp                              source  \\\n",
       "0   2017-08-01 00:17:27 +0000  http://twitter.com/download/iphone   \n",
       "1   2017-07-31 00:18:03 +0000  http://twitter.com/download/iphone   \n",
       "2   2017-07-30 15:58:51 +0000  http://twitter.com/download/iphone   \n",
       "3   2017-07-29 16:00:24 +0000  http://twitter.com/download/iphone   \n",
       "4   2017-07-29 00:08:17 +0000  http://twitter.com/download/iphone   \n",
       "5   2017-07-28 16:27:12 +0000  http://twitter.com/download/iphone   \n",
       "6   2017-07-28 00:22:40 +0000  http://twitter.com/download/iphone   \n",
       "7   2017-07-27 16:25:51 +0000  http://twitter.com/download/iphone   \n",
       "8   2017-07-26 15:59:51 +0000  http://twitter.com/download/iphone   \n",
       "9   2017-07-26 00:31:25 +0000  http://twitter.com/download/iphone   \n",
       "10  2017-07-25 16:11:53 +0000  http://twitter.com/download/iphone   \n",
       "11  2017-07-25 01:55:32 +0000  http://twitter.com/download/iphone   \n",
       "12  2017-07-25 00:10:02 +0000  http://twitter.com/download/iphone   \n",
       "13  2017-07-24 17:02:04 +0000  http://twitter.com/download/iphone   \n",
       "14  2017-07-24 00:19:32 +0000  http://twitter.com/download/iphone   \n",
       "15  2017-07-23 00:22:39 +0000  http://twitter.com/download/iphone   \n",
       "16  2017-07-22 16:56:37 +0000  http://twitter.com/download/iphone   \n",
       "17  2017-07-22 00:23:06 +0000  http://twitter.com/download/iphone   \n",
       "18  2017-07-20 16:49:33 +0000  http://twitter.com/download/iphone   \n",
       "19  2017-07-19 16:06:48 +0000  http://twitter.com/download/iphone   \n",
       "20  2017-07-19 00:47:34 +0000  http://twitter.com/download/iphone   \n",
       "21  2017-07-18 16:08:03 +0000  http://twitter.com/download/iphone   \n",
       "22  2017-07-18 00:07:08 +0000  http://twitter.com/download/iphone   \n",
       "23  2017-07-17 16:17:36 +0000  http://twitter.com/download/iphone   \n",
       "24  2017-07-16 23:58:41 +0000  http://twitter.com/download/iphone   \n",
       "25  2017-07-15 23:25:31 +0000  http://twitter.com/download/iphone   \n",
       "26  2017-07-15 16:17:19 +0000  http://twitter.com/download/iphone   \n",
       "27  2017-07-14 22:10:11 +0000  http://twitter.com/download/iphone   \n",
       "28  2017-07-13 15:58:47 +0000  http://twitter.com/download/iphone   \n",
       "29  2017-07-12 16:03:00 +0000  http://twitter.com/download/iphone   \n",
       "\n",
       "                                                 text  \\\n",
       "0   This is Tilly. She's just checking pup on you....   \n",
       "1   This is Archie. He is a rare Norwegian Pouncin...   \n",
       "2   This is Darla. She commenced a snooze mid meal...   \n",
       "3   This is Franklin. He would like you to stop ca...   \n",
       "4   Here we have a majestic great white breaching ...   \n",
       "5   Meet Jax. He enjoys ice cream so much he gets ...   \n",
       "6   When you watch your owner call another dog a g...   \n",
       "7   This is Zoey. She doesn't want to be one of th...   \n",
       "8   This is Cassie. She is a college pup. Studying...   \n",
       "9   This is Koda. He is a South Australian decksha...   \n",
       "10  This is Bruno. He is a service shark. Only get...   \n",
       "11  Here's a puppo that seems to be on the fence a...   \n",
       "12  This is Ted. He does his best. Sometimes that'...   \n",
       "13  This is Stuart. He's sporting his favorite fan...   \n",
       "14  This is Oliver. You're witnessing one of his m...   \n",
       "15  This is Jim. He found a fren. Taught him how t...   \n",
       "16  This is Zeke. He has a new stick. Very proud o...   \n",
       "17  This is Ralphus. He's powering up. Attempting ...   \n",
       "18  This is Gerald. He was just told he didn't get...   \n",
       "19  This is Jeffrey. He has a monopoly on the pool...   \n",
       "20  This is Canela. She attempted some fancy porch...   \n",
       "21  You may not have known you needed to see this ...   \n",
       "22  This... is a Jubilant Antarctic House Bear. We...   \n",
       "23  This is Maya. She's very shy. Rarely leaves he...   \n",
       "24  This is Mingus. He's a wonderful father to his...   \n",
       "25  This is Roscoe. Another pupper fallen victim t...   \n",
       "26  This is Waffles. His doggles are pupside down....   \n",
       "27  Viewer discretion advised. This is Jimbo. He w...   \n",
       "28  This is Maisey. She fell asleep mid-excavation...   \n",
       "29  Here we have a corgi undercover as a malamute....   \n",
       "\n",
       "                                        expanded_urls      name  \\\n",
       "0   https://twitter.com/dog_rates/status/892177421...     Tilly   \n",
       "1   https://twitter.com/dog_rates/status/891815181...    Archie   \n",
       "2   https://twitter.com/dog_rates/status/891689557...     Darla   \n",
       "3   https://twitter.com/dog_rates/status/891327558...  Franklin   \n",
       "4   https://twitter.com/dog_rates/status/891087950...      None   \n",
       "5   https://gofundme.com/ydvmve-surgery-for-jax,ht...       Jax   \n",
       "6   https://twitter.com/dog_rates/status/890729181...      None   \n",
       "7   https://twitter.com/dog_rates/status/890609185...      Zoey   \n",
       "8   https://twitter.com/dog_rates/status/890240255...    Cassie   \n",
       "9   https://twitter.com/dog_rates/status/890006608...      Koda   \n",
       "10  https://twitter.com/dog_rates/status/889880896...     Bruno   \n",
       "11  https://twitter.com/dog_rates/status/889665388...      None   \n",
       "12  https://twitter.com/dog_rates/status/889638837...       Ted   \n",
       "13  https://twitter.com/dog_rates/status/889531135...    Stuart   \n",
       "14  https://twitter.com/dog_rates/status/889278841...    Oliver   \n",
       "15  https://twitter.com/dog_rates/status/888917238...       Jim   \n",
       "16  https://twitter.com/dog_rates/status/888804989...      Zeke   \n",
       "17  https://twitter.com/dog_rates/status/888554962...   Ralphus   \n",
       "18  https://twitter.com/dog_rates/status/888078434...    Gerald   \n",
       "19  https://twitter.com/dog_rates/status/887705289...   Jeffrey   \n",
       "20  https://twitter.com/dog_rates/status/887473957...    Canela   \n",
       "21  https://twitter.com/dog_rates/status/887343217...      None   \n",
       "22  https://twitter.com/dog_rates/status/887101392...      None   \n",
       "23  https://twitter.com/dog_rates/status/886983233...      Maya   \n",
       "24  https://www.gofundme.com/mingusneedsus,https:/...    Mingus   \n",
       "25  https://twitter.com/dog_rates/status/886366144...    Roscoe   \n",
       "26  https://twitter.com/dog_rates/status/886258384...   Waffles   \n",
       "27  https://twitter.com/dog_rates/status/885984800...     Jimbo   \n",
       "28  https://twitter.com/dog_rates/status/885528943...    Maisey   \n",
       "29  https://twitter.com/dog_rates/status/885167619...      None   \n",
       "\n",
       "                  time_stamp  favorite_count  retweet_count           stage  \\\n",
       "0  2017-08-01 00:17:27+00:00           33819           6514  Not_determined   \n",
       "1  2017-07-31 00:18:03+00:00           25461           4328  Not_determined   \n",
       "2  2017-07-30 15:58:51+00:00           42908           8964  Not_determined   \n",
       "3  2017-07-29 16:00:24+00:00           41048           9774  Not_determined   \n",
       "4  2017-07-29 00:08:17+00:00           20562           3261  Not_determined   \n",
       "5  2017-07-28 16:27:12+00:00           12041           2158  Not_determined   \n",
       "6  2017-07-28 00:22:40+00:00           56848          16716  Not_determined   \n",
       "7  2017-07-27 16:25:51+00:00           28226           4429  Not_determined   \n",
       "8  2017-07-26 15:59:51+00:00           32467           7711           doggo   \n",
       "9  2017-07-26 00:31:25+00:00           31166           7624  Not_determined   \n",
       "10 2017-07-25 16:11:53+00:00           28268           5156  Not_determined   \n",
       "11 2017-07-25 01:55:32+00:00           38818           8538           puppo   \n",
       "12 2017-07-25 00:10:02+00:00           27672           4735  Not_determined   \n",
       "13 2017-07-24 17:02:04+00:00           15359           2321           puppo   \n",
       "14 2017-07-24 00:19:32+00:00           25652           5637  Not_determined   \n",
       "15 2017-07-23 00:22:39+00:00           29611           4709  Not_determined   \n",
       "16 2017-07-22 16:56:37+00:00           26080           4559  Not_determined   \n",
       "17 2017-07-22 00:23:06+00:00           20290           3732  Not_determined   \n",
       "18 2017-07-20 16:49:33+00:00           22201           3653  Not_determined   \n",
       "19 2017-07-19 16:06:48+00:00           30779           5609  Not_determined   \n",
       "20 2017-07-19 00:47:34+00:00           69871          18781  Not_determined   \n",
       "21 2017-07-18 16:08:03+00:00           34222          10737  Not_determined   \n",
       "22 2017-07-18 00:07:08+00:00           31061           6167  Not_determined   \n",
       "23 2017-07-17 16:17:36+00:00           35859           8084  Not_determined   \n",
       "24 2017-07-16 23:58:41+00:00           12306           3443  Not_determined   \n",
       "25 2017-07-15 23:25:31+00:00           21524           3316          pupper   \n",
       "26 2017-07-15 16:17:19+00:00           28469           6523  Not_determined   \n",
       "27 2017-07-14 22:10:11+00:00           33382           7097  Not_determined   \n",
       "28 2017-07-13 15:58:47+00:00           36689           6683  Not_determined   \n",
       "29 2017-07-12 16:03:00+00:00           22367           4556  Not_determined   \n",
       "\n",
       "    rat_numerator  rat_denominator  \n",
       "0            13.0             10.0  \n",
       "1            12.0             10.0  \n",
       "2            13.0             10.0  \n",
       "3            12.0             10.0  \n",
       "4            13.0             10.0  \n",
       "5            13.0             10.0  \n",
       "6            13.0             10.0  \n",
       "7            13.0             10.0  \n",
       "8            14.0             10.0  \n",
       "9            13.0             10.0  \n",
       "10           13.0             10.0  \n",
       "11           13.0             10.0  \n",
       "12           12.0             10.0  \n",
       "13           13.0             10.0  \n",
       "14           13.0             10.0  \n",
       "15           12.0             10.0  \n",
       "16           13.0             10.0  \n",
       "17           13.0             10.0  \n",
       "18           12.0             10.0  \n",
       "19           13.0             10.0  \n",
       "20           13.0             10.0  \n",
       "21           13.0             10.0  \n",
       "22           12.0             10.0  \n",
       "23           13.0             10.0  \n",
       "24           13.0             10.0  \n",
       "25           12.0             10.0  \n",
       "26           13.0             10.0  \n",
       "27           12.0             10.0  \n",
       "28           13.0             10.0  \n",
       "29           13.0             10.0  "
      ]
     },
     "execution_count": 541,
     "metadata": {},
     "output_type": "execute_result"
    }
   ],
   "source": [
    "arc_clean.head(30)"
   ]
  },
  {
   "cell_type": "markdown",
   "metadata": {},
   "source": [
    "# Test"
   ]
  },
  {
   "cell_type": "code",
   "execution_count": 542,
   "metadata": {},
   "outputs": [
    {
     "name": "stdout",
     "output_type": "stream",
     "text": [
      "<class 'pandas.core.frame.DataFrame'>\n",
      "Int64Index: 1686 entries, 0 to 1685\n",
      "Data columns (total 14 columns):\n",
      " #   Column                 Non-Null Count  Dtype              \n",
      "---  ------                 --------------  -----              \n",
      " 0   tweet_id               1686 non-null   object             \n",
      " 1   in_reply_to_status_id  20 non-null     float64            \n",
      " 2   in_reply_to_user_id    20 non-null     float64            \n",
      " 3   timestamp              1686 non-null   object             \n",
      " 4   source                 1677 non-null   object             \n",
      " 5   text                   1686 non-null   object             \n",
      " 6   expanded_urls          1686 non-null   object             \n",
      " 7   name                   1686 non-null   object             \n",
      " 8   time_stamp             1686 non-null   datetime64[ns, UTC]\n",
      " 9   favorite_count         1686 non-null   int64              \n",
      " 10  retweet_count          1686 non-null   int64              \n",
      " 11  stage                  1686 non-null   object             \n",
      " 12  rat_numerator          1686 non-null   float64            \n",
      " 13  rat_denominator        1686 non-null   float64            \n",
      "dtypes: datetime64[ns, UTC](1), float64(4), int64(2), object(7)\n",
      "memory usage: 197.6+ KB\n"
     ]
    }
   ],
   "source": [
    "arc_clean.info()"
   ]
  },
  {
   "cell_type": "markdown",
   "metadata": {},
   "source": [
    "# Test"
   ]
  },
  {
   "cell_type": "markdown",
   "metadata": {},
   "source": [
    "# Define\n",
    "# Add the algorithm first predection confedence (first_conf) to the arc fro image_predection dataframe using merg operation"
   ]
  },
  {
   "cell_type": "markdown",
   "metadata": {},
   "source": [
    "# Code"
   ]
  },
  {
   "cell_type": "code",
   "execution_count": 543,
   "metadata": {},
   "outputs": [],
   "source": [
    "arc_clean= pd.merge(arc_clean,imag_clean[['tweet_id','first_conf']],on='tweet_id',how='left')"
   ]
  },
  {
   "cell_type": "markdown",
   "metadata": {},
   "source": [
    "# Define Convert the type of tweet_id column from int to string as it is not needed in methemetical operations "
   ]
  },
  {
   "cell_type": "markdown",
   "metadata": {},
   "source": [
    "# Code"
   ]
  },
  {
   "cell_type": "code",
   "execution_count": 544,
   "metadata": {},
   "outputs": [],
   "source": [
    "arc_clean['tweet_id'] = arc_clean['tweet_id'].astype(str)\n",
    "arc_clean['timestamp']=pd.to_datetime(arc_clean['timestamp'])"
   ]
  },
  {
   "cell_type": "markdown",
   "metadata": {},
   "source": [
    "# Test"
   ]
  },
  {
   "cell_type": "code",
   "execution_count": 545,
   "metadata": {
    "scrolled": true
   },
   "outputs": [
    {
     "name": "stdout",
     "output_type": "stream",
     "text": [
      "<class 'pandas.core.frame.DataFrame'>\n",
      "Int64Index: 1686 entries, 0 to 1685\n",
      "Data columns (total 15 columns):\n",
      " #   Column                 Non-Null Count  Dtype              \n",
      "---  ------                 --------------  -----              \n",
      " 0   tweet_id               1686 non-null   object             \n",
      " 1   in_reply_to_status_id  20 non-null     float64            \n",
      " 2   in_reply_to_user_id    20 non-null     float64            \n",
      " 3   timestamp              1686 non-null   datetime64[ns, UTC]\n",
      " 4   source                 1677 non-null   object             \n",
      " 5   text                   1686 non-null   object             \n",
      " 6   expanded_urls          1686 non-null   object             \n",
      " 7   name                   1686 non-null   object             \n",
      " 8   time_stamp             1686 non-null   datetime64[ns, UTC]\n",
      " 9   favorite_count         1686 non-null   int64              \n",
      " 10  retweet_count          1686 non-null   int64              \n",
      " 11  stage                  1686 non-null   object             \n",
      " 12  rat_numerator          1686 non-null   float64            \n",
      " 13  rat_denominator        1686 non-null   float64            \n",
      " 14  first_conf             1686 non-null   float64            \n",
      "dtypes: datetime64[ns, UTC](2), float64(5), int64(2), object(6)\n",
      "memory usage: 210.8+ KB\n"
     ]
    }
   ],
   "source": [
    "arc_clean.info()"
   ]
  },
  {
   "cell_type": "markdown",
   "metadata": {},
   "source": [
    "## Store Clean data \n",
    "### Saving The cleaned data in twitter_archive_master.csv"
   ]
  },
  {
   "cell_type": "code",
   "execution_count": 546,
   "metadata": {},
   "outputs": [],
   "source": [
    "arc_clean.to_csv('D:/data_analysis_FWd/project2/twitter_archive_master.csv')"
   ]
  },
  {
   "cell_type": "markdown",
   "metadata": {},
   "source": [
    "# Data Analysis  And Visualization"
   ]
  },
  {
   "cell_type": "markdown",
   "metadata": {},
   "source": [
    "### Reading the cleaned data into dataframe arc_clean"
   ]
  },
  {
   "cell_type": "code",
   "execution_count": 568,
   "metadata": {},
   "outputs": [],
   "source": [
    "arc_df= pd.read_csv('D:/data_analysis_FWd/project2/twitter_archive_master.csv')"
   ]
  },
  {
   "cell_type": "code",
   "execution_count": 569,
   "metadata": {},
   "outputs": [
    {
     "data": {
      "text/html": [
       "<div>\n",
       "<style scoped>\n",
       "    .dataframe tbody tr th:only-of-type {\n",
       "        vertical-align: middle;\n",
       "    }\n",
       "\n",
       "    .dataframe tbody tr th {\n",
       "        vertical-align: top;\n",
       "    }\n",
       "\n",
       "    .dataframe thead th {\n",
       "        text-align: right;\n",
       "    }\n",
       "</style>\n",
       "<table border=\"1\" class=\"dataframe\">\n",
       "  <thead>\n",
       "    <tr style=\"text-align: right;\">\n",
       "      <th></th>\n",
       "      <th>in_reply_to_status_id</th>\n",
       "      <th>in_reply_to_user_id</th>\n",
       "      <th>favorite_count</th>\n",
       "      <th>retweet_count</th>\n",
       "      <th>rat_numerator</th>\n",
       "      <th>rat_denominator</th>\n",
       "      <th>first_conf</th>\n",
       "      <th>rating</th>\n",
       "    </tr>\n",
       "  </thead>\n",
       "  <tbody>\n",
       "    <tr>\n",
       "      <th>count</th>\n",
       "      <td>2.000000e+01</td>\n",
       "      <td>2.000000e+01</td>\n",
       "      <td>1686.000000</td>\n",
       "      <td>1686.000000</td>\n",
       "      <td>1686.000000</td>\n",
       "      <td>1686.000000</td>\n",
       "      <td>1686.000000</td>\n",
       "      <td>1686.000000</td>\n",
       "    </tr>\n",
       "    <tr>\n",
       "      <th>mean</th>\n",
       "      <td>6.949452e+17</td>\n",
       "      <td>4.196984e+09</td>\n",
       "      <td>9233.109727</td>\n",
       "      <td>2817.118031</td>\n",
       "      <td>11.236655</td>\n",
       "      <td>10.262159</td>\n",
       "      <td>0.605150</td>\n",
       "      <td>1.094365</td>\n",
       "    </tr>\n",
       "    <tr>\n",
       "      <th>std</th>\n",
       "      <td>4.455933e+16</td>\n",
       "      <td>0.000000e+00</td>\n",
       "      <td>12583.246963</td>\n",
       "      <td>4807.199770</td>\n",
       "      <td>5.180572</td>\n",
       "      <td>3.897662</td>\n",
       "      <td>0.266416</td>\n",
       "      <td>0.276352</td>\n",
       "    </tr>\n",
       "    <tr>\n",
       "      <th>min</th>\n",
       "      <td>6.671522e+17</td>\n",
       "      <td>4.196984e+09</td>\n",
       "      <td>81.000000</td>\n",
       "      <td>16.000000</td>\n",
       "      <td>0.000000</td>\n",
       "      <td>2.000000</td>\n",
       "      <td>0.044333</td>\n",
       "      <td>0.000000</td>\n",
       "    </tr>\n",
       "    <tr>\n",
       "      <th>25%</th>\n",
       "      <td>6.716877e+17</td>\n",
       "      <td>4.196984e+09</td>\n",
       "      <td>2163.250000</td>\n",
       "      <td>649.250000</td>\n",
       "      <td>10.000000</td>\n",
       "      <td>10.000000</td>\n",
       "      <td>0.378746</td>\n",
       "      <td>1.000000</td>\n",
       "    </tr>\n",
       "    <tr>\n",
       "      <th>50%</th>\n",
       "      <td>6.756022e+17</td>\n",
       "      <td>4.196984e+09</td>\n",
       "      <td>4440.000000</td>\n",
       "      <td>1437.500000</td>\n",
       "      <td>11.000000</td>\n",
       "      <td>10.000000</td>\n",
       "      <td>0.606701</td>\n",
       "      <td>1.100000</td>\n",
       "    </tr>\n",
       "    <tr>\n",
       "      <th>75%</th>\n",
       "      <td>6.947919e+17</td>\n",
       "      <td>4.196984e+09</td>\n",
       "      <td>11656.750000</td>\n",
       "      <td>3247.750000</td>\n",
       "      <td>12.000000</td>\n",
       "      <td>10.000000</td>\n",
       "      <td>0.851578</td>\n",
       "      <td>1.200000</td>\n",
       "    </tr>\n",
       "    <tr>\n",
       "      <th>max</th>\n",
       "      <td>8.558181e+17</td>\n",
       "      <td>4.196984e+09</td>\n",
       "      <td>132810.000000</td>\n",
       "      <td>79515.000000</td>\n",
       "      <td>99.000000</td>\n",
       "      <td>90.000000</td>\n",
       "      <td>0.999984</td>\n",
       "      <td>7.500000</td>\n",
       "    </tr>\n",
       "  </tbody>\n",
       "</table>\n",
       "</div>"
      ],
      "text/plain": [
       "       in_reply_to_status_id  in_reply_to_user_id  favorite_count  \\\n",
       "count           2.000000e+01         2.000000e+01     1686.000000   \n",
       "mean            6.949452e+17         4.196984e+09     9233.109727   \n",
       "std             4.455933e+16         0.000000e+00    12583.246963   \n",
       "min             6.671522e+17         4.196984e+09       81.000000   \n",
       "25%             6.716877e+17         4.196984e+09     2163.250000   \n",
       "50%             6.756022e+17         4.196984e+09     4440.000000   \n",
       "75%             6.947919e+17         4.196984e+09    11656.750000   \n",
       "max             8.558181e+17         4.196984e+09   132810.000000   \n",
       "\n",
       "       retweet_count  rat_numerator  rat_denominator   first_conf       rating  \n",
       "count    1686.000000    1686.000000      1686.000000  1686.000000  1686.000000  \n",
       "mean     2817.118031      11.236655        10.262159     0.605150     1.094365  \n",
       "std      4807.199770       5.180572         3.897662     0.266416     0.276352  \n",
       "min        16.000000       0.000000         2.000000     0.044333     0.000000  \n",
       "25%       649.250000      10.000000        10.000000     0.378746     1.000000  \n",
       "50%      1437.500000      11.000000        10.000000     0.606701     1.100000  \n",
       "75%      3247.750000      12.000000        10.000000     0.851578     1.200000  \n",
       "max     79515.000000      99.000000        90.000000     0.999984     7.500000  "
      ]
     },
     "execution_count": 569,
     "metadata": {},
     "output_type": "execute_result"
    }
   ],
   "source": [
    "arc_clean.describe()"
   ]
  },
  {
   "cell_type": "markdown",
   "metadata": {},
   "source": [
    "# The sources of the tweets"
   ]
  },
  {
   "cell_type": "code",
   "execution_count": 570,
   "metadata": {},
   "outputs": [
    {
     "data": {
      "text/plain": [
       "http://twitter.com/download/iphone    1655\n",
       "http://twitter.com                      22\n",
       "Name: source, dtype: int64"
      ]
     },
     "execution_count": 570,
     "metadata": {},
     "output_type": "execute_result"
    }
   ],
   "source": [
    "arc_clean['source'].value_counts()"
   ]
  },
  {
   "cell_type": "code",
   "execution_count": 571,
   "metadata": {},
   "outputs": [
    {
     "data": {
      "text/plain": [
       "Text(0, 0.5, 'Count of Tweets')"
      ]
     },
     "execution_count": 571,
     "metadata": {},
     "output_type": "execute_result"
    },
    {
     "data": {
      "image/png": "[encoded data removed]",
      "text/plain": [
       "<Figure size 432x288 with 1 Axes>"
      ]
     },
     "metadata": {},
     "output_type": "display_data"
    }
   ],
   "source": [
    "ind=arc_clean['source'].value_counts().index\n",
    "arc_clean['source'].value_counts()[ind].plot(kind='bar',title='The sources of the Tweets and theire counts')\n",
    "plt.xlabel('source')\n",
    "plt.ylabel('Count of Tweets')"
   ]
  },
  {
   "cell_type": "markdown",
   "metadata": {},
   "source": [
    "### Exploring numbers of ratings in the period of time between Nov, 2015 and Aug 2017"
   ]
  },
  {
   "cell_type": "code",
   "execution_count": 572,
   "metadata": {},
   "outputs": [
    {
     "name": "stderr",
     "output_type": "stream",
     "text": [
      "C:\\ProgramData\\Anaconda3\\lib\\site-packages\\pandas\\core\\arrays\\datetimes.py:1102: UserWarning: Converting to PeriodArray/Index representation will drop timezone information.\n",
      "  UserWarning,\n"
     ]
    },
    {
     "data": {
      "text/plain": [
       "2015-11    226\n",
       "2015-12    289\n",
       "2016-01    141\n",
       "2016-02     96\n",
       "2016-03    107\n",
       "2016-04     50\n",
       "2016-05     48\n",
       "2016-06     69\n",
       "2016-07     78\n",
       "2016-08     47\n",
       "2016-09     57\n",
       "2016-10     60\n",
       "2016-11     45\n",
       "2016-12     52\n",
       "2017-01     59\n",
       "2017-02     60\n",
       "2017-03     44\n",
       "2017-04     34\n",
       "2017-05     36\n",
       "2017-06     41\n",
       "2017-07     46\n",
       "2017-08      1\n",
       "Freq: M, Name: month_year, dtype: int64"
      ]
     },
     "execution_count": 572,
     "metadata": {},
     "output_type": "execute_result"
    }
   ],
   "source": [
    "new_arc=arc_clean.copy()\n",
    "new_arc['rating']=arc_clean['rat_numerator']/arc_clean['rat_denominator']\n",
    "new_arc['month_year'] = pd.to_datetime(new_arc['timestamp']).dt.to_period('M')\n",
    "new_arc['month_year'].value_counts(sort=False)"
   ]
  },
  {
   "cell_type": "code",
   "execution_count": 573,
   "metadata": {},
   "outputs": [
    {
     "data": {
      "text/plain": [
       "Text(0, 0.5, 'Number of Tweets')"
      ]
     },
     "execution_count": 573,
     "metadata": {},
     "output_type": "execute_result"
    },
    {
     "data": {
      "image/png": "[encoded data removed]",
      "text/plain": [
       "<Figure size 432x288 with 1 Axes>"
      ]
     },
     "metadata": {},
     "output_type": "display_data"
    }
   ],
   "source": [
    "new_arc['month_year'].value_counts(sort=False).plot(kind='bar',title=' Number of Ratings Over Time',)\n",
    "plt.xlabel('Year-Month')\n",
    "plt.ylabel('Number of Tweets')"
   ]
  },
  {
   "cell_type": "markdown",
   "metadata": {},
   "source": [
    "### Exploring Number of tweets in the various dog stages"
   ]
  },
  {
   "cell_type": "code",
   "execution_count": 574,
   "metadata": {},
   "outputs": [
    {
     "data": {
      "text/plain": [
       "stage\n",
       "Not_determined    1426\n",
       "doggo               54\n",
       "floofer              8\n",
       "pupper             176\n",
       "puppo               22\n",
       "Name: rating, dtype: int64"
      ]
     },
     "execution_count": 574,
     "metadata": {},
     "output_type": "execute_result"
    }
   ],
   "source": [
    "\n",
    "new_arc.groupby('stage').rating.count()"
   ]
  },
  {
   "cell_type": "code",
   "execution_count": 575,
   "metadata": {},
   "outputs": [
    {
     "data": {
      "text/plain": [
       "Text(0, 0.5, 'Count')"
      ]
     },
     "execution_count": 575,
     "metadata": {},
     "output_type": "execute_result"
    },
    {
     "data": {
      "image/png": "[encoded data removed]",
      "text/plain": [
       "<Figure size 432x288 with 1 Axes>"
      ]
     },
     "metadata": {},
     "output_type": "display_data"
    }
   ],
   "source": [
    "#arc_clean['rating']=arc_clean['rat_numerator']/arc_clean['rat_denominator']\n",
    "new_arc.groupby('stage').rating.count().plot(kind='bar',title='The count of tweets in each stage')\n",
    "plt.ylabel('Count')"
   ]
  },
  {
   "cell_type": "markdown",
   "metadata": {},
   "source": [
    "#### Creating a column Rating= rating_numerator/rating_denominator. \n",
    "#### Exploring the values of the new column Rating"
   ]
  },
  {
   "cell_type": "code",
   "execution_count": 576,
   "metadata": {},
   "outputs": [
    {
     "data": {
      "text/plain": [
       "Text(0, 0.5, 'Count')"
      ]
     },
     "execution_count": 576,
     "metadata": {},
     "output_type": "execute_result"
    },
    {
     "data": {
      "image/png": "[encoded data removed]",
      "text/plain": [
       "<Figure size 432x288 with 1 Axes>"
      ]
     },
     "metadata": {},
     "output_type": "display_data"
    }
   ],
   "source": [
    "arc_clean['rating']=arc_clean['rat_numerator']/arc_clean['rat_denominator']\n",
    "arc_clean.groupby('stage').rating.mean().plot(kind='bar',title='The count of ratings in each stage')\n",
    "plt.ylabel('Count')"
   ]
  },
  {
   "cell_type": "markdown",
   "metadata": {},
   "source": [
    "## Exploring the Favorite numbers among the various stages of dogs."
   ]
  },
  {
   "cell_type": "code",
   "execution_count": 577,
   "metadata": {},
   "outputs": [
    {
     "data": {
      "text/plain": [
       "stage\n",
       "Not_determined     8796.799439\n",
       "doggo             19404.240741\n",
       "floofer           13701.375000\n",
       "pupper             7766.414773\n",
       "puppo             22657.181818\n",
       "Name: favorite_count, dtype: float64"
      ]
     },
     "execution_count": 577,
     "metadata": {},
     "output_type": "execute_result"
    }
   ],
   "source": [
    "arc_clean.groupby('stage').favorite_count.mean()"
   ]
  },
  {
   "cell_type": "code",
   "execution_count": 578,
   "metadata": {},
   "outputs": [
    {
     "data": {
      "text/plain": [
       "Text(0, 0.5, 'Number of Favorites')"
      ]
     },
     "execution_count": 578,
     "metadata": {},
     "output_type": "execute_result"
    },
    {
     "data": {
      "image/png": "[encoded data removed]",
      "text/plain": [
       "<Figure size 432x288 with 1 Axes>"
      ]
     },
     "metadata": {},
     "output_type": "display_data"
    }
   ],
   "source": [
    "arc_clean.groupby('stage').favorite_count.mean().plot(kind='bar',title='Number of Favorites in various Stages')\n",
    "plt.ylabel('Number of Favorites')"
   ]
  },
  {
   "cell_type": "markdown",
   "metadata": {},
   "source": [
    "## Exploring the Retweeting counts among the various stages of dogs."
   ]
  },
  {
   "cell_type": "code",
   "execution_count": 579,
   "metadata": {},
   "outputs": [
    {
     "data": {
      "text/plain": [
       "Text(0, 0.5, 'Number of Retweets')"
      ]
     },
     "execution_count": 579,
     "metadata": {},
     "output_type": "execute_result"
    },
    {
     "data": {
      "image/png": "[encoded data removed]",
      "text/plain": [
       "<Figure size 432x288 with 1 Axes>"
      ]
     },
     "metadata": {},
     "output_type": "display_data"
    }
   ],
   "source": [
    "arc_clean.groupby('stage').retweet_count.mean().plot(kind='bar',title='Number of Retweets in various Stages')\n",
    "plt.ylabel('Number of Retweets')"
   ]
  },
  {
   "cell_type": "markdown",
   "metadata": {},
   "source": [
    "### The mean value of the confidence values of the first image predection "
   ]
  },
  {
   "cell_type": "code",
   "execution_count": 580,
   "metadata": {},
   "outputs": [
    {
     "data": {
      "text/plain": [
       "stage\n",
       "Not_determined    0.600570\n",
       "doggo             0.575960\n",
       "floofer           0.577395\n",
       "pupper            0.640163\n",
       "puppo             0.703661\n",
       "Name: first_conf, dtype: float64"
      ]
     },
     "execution_count": 580,
     "metadata": {},
     "output_type": "execute_result"
    }
   ],
   "source": [
    "arc_clean.groupby('stage').first_conf.mean()"
   ]
  },
  {
   "cell_type": "code",
   "execution_count": 581,
   "metadata": {},
   "outputs": [
    {
     "data": {
      "text/plain": [
       "Text(0, 0.5, 'Mean of the confedence')"
      ]
     },
     "execution_count": 581,
     "metadata": {},
     "output_type": "execute_result"
    },
    {
     "data": {
      "image/png": "[encoded data removed]",
      "text/plain": [
       "<Figure size 432x288 with 1 Axes>"
      ]
     },
     "metadata": {},
     "output_type": "display_data"
    }
   ],
   "source": [
    "arc_clean.groupby('stage').first_conf.mean().plot(kind='bar',title='The Mean Value of the Confedence of the First Predection')\n",
    "plt.ylabel('Mean of the confedence')"
   ]
  },
  {
   "cell_type": "markdown",
   "metadata": {},
   "source": [
    "### Exploring the most frequently used names of dogs"
   ]
  },
  {
   "cell_type": "code",
   "execution_count": 582,
   "metadata": {},
   "outputs": [
    {
     "data": {
      "text/plain": [
       "None       419\n",
       "A           46\n",
       "Lucy        10\n",
       "Cooper      10\n",
       "Charlie     10\n",
       "Oliver       9\n",
       "Name: name, dtype: int64"
      ]
     },
     "execution_count": 582,
     "metadata": {},
     "output_type": "execute_result"
    }
   ],
   "source": [
    "arc_clean.name.value_counts().head(6)"
   ]
  },
  {
   "cell_type": "code",
   "execution_count": 583,
   "metadata": {},
   "outputs": [],
   "source": [
    "new=arc_clean.copy()"
   ]
  },
  {
   "cell_type": "code",
   "execution_count": 584,
   "metadata": {},
   "outputs": [],
   "source": [
    "new['rating_year']=arc_clean['timestamp'].dt.year\n",
    "#arc_clean.info()"
   ]
  },
  {
   "cell_type": "code",
   "execution_count": 585,
   "metadata": {},
   "outputs": [
    {
     "name": "stdout",
     "output_type": "stream",
     "text": [
      "<class 'pandas.core.frame.DataFrame'>\n",
      "Int64Index: 1686 entries, 0 to 1685\n",
      "Data columns (total 17 columns):\n",
      " #   Column                 Non-Null Count  Dtype              \n",
      "---  ------                 --------------  -----              \n",
      " 0   tweet_id               1686 non-null   object             \n",
      " 1   in_reply_to_status_id  20 non-null     float64            \n",
      " 2   in_reply_to_user_id    20 non-null     float64            \n",
      " 3   timestamp              1686 non-null   datetime64[ns, UTC]\n",
      " 4   source                 1677 non-null   object             \n",
      " 5   text                   1686 non-null   object             \n",
      " 6   expanded_urls          1686 non-null   object             \n",
      " 7   name                   1686 non-null   object             \n",
      " 8   time_stamp             1686 non-null   datetime64[ns, UTC]\n",
      " 9   favorite_count         1686 non-null   int64              \n",
      " 10  retweet_count          1686 non-null   int64              \n",
      " 11  stage                  1686 non-null   object             \n",
      " 12  rat_numerator          1686 non-null   float64            \n",
      " 13  rat_denominator        1686 non-null   float64            \n",
      " 14  first_conf             1686 non-null   float64            \n",
      " 15  rating                 1686 non-null   float64            \n",
      " 16  rating_year            1686 non-null   int64              \n",
      "dtypes: datetime64[ns, UTC](2), float64(6), int64(3), object(6)\n",
      "memory usage: 237.1+ KB\n"
     ]
    }
   ],
   "source": [
    "new.info()"
   ]
  },
  {
   "cell_type": "markdown",
   "metadata": {},
   "source": [
    "### Exploring the Number of Ratings in Each year from 2015 to 2017"
   ]
  },
  {
   "cell_type": "code",
   "execution_count": 586,
   "metadata": {},
   "outputs": [
    {
     "data": {
      "text/plain": [
       "2015    515\n",
       "2016    850\n",
       "2017    321\n",
       "Name: rating_year, dtype: int64"
      ]
     },
     "execution_count": 586,
     "metadata": {},
     "output_type": "execute_result"
    }
   ],
   "source": [
    "new.rating_year.value_counts(sort=False)"
   ]
  },
  {
   "cell_type": "code",
   "execution_count": 587,
   "metadata": {},
   "outputs": [
    {
     "data": {
      "text/plain": [
       "Text(0, 0.5, 'count of Ratings')"
      ]
     },
     "execution_count": 587,
     "metadata": {},
     "output_type": "execute_result"
    },
    {
     "data": {
      "image/png": "[encoded data removed]",
      "text/plain": [
       "<Figure size 432x288 with 1 Axes>"
      ]
     },
     "metadata": {},
     "output_type": "display_data"
    }
   ],
   "source": [
    "ind=new.rating_year.value_counts(sort=False).index\n",
    "new.rating_year.value_counts()[ind].plot(kind='bar', title='Number of Ratings between 2015 and 2017')\n",
    "plt.xlabel('Year')\n",
    "plt.ylabel('count of Ratings')"
   ]
  },
  {
   "cell_type": "markdown",
   "metadata": {},
   "source": [
    "### Exploring the statistical distribution of the first result of the predection algorithm"
   ]
  },
  {
   "cell_type": "code",
   "execution_count": 588,
   "metadata": {},
   "outputs": [
    {
     "data": {
      "text/plain": [
       "Text(0.5, 0.98, 'Histogram of the 1st predection of Neural Network Algorithm')"
      ]
     },
     "execution_count": 588,
     "metadata": {},
     "output_type": "execute_result"
    },
    {
     "data": {
      "image/png": "[encoded data removed]",
      "text/plain": [
       "<Figure size 432x288 with 1 Axes>"
      ]
     },
     "metadata": {},
     "output_type": "display_data"
    }
   ],
   "source": [
    "arc_clean['first_conf'].hist()\n",
    "plt.xlabel('Confedence of the first predection')\n",
    "pl.suptitle('Histogram of the 1st predection of Neural Network Algorithm')"
   ]
  },
  {
   "cell_type": "code",
   "execution_count": null,
   "metadata": {},
   "outputs": [],
   "source": []
  }
 ],
 "metadata": {
  "kernelspec": {
   "display_name": "Python 3",
   "language": "python",
   "name": "python3"
  },
  "language_info": {
   "codemirror_mode": {
    "name": "ipython",
    "version": 3
   },
   "file_extension": ".py",
   "mimetype": "text/x-python",
   "name": "python",
   "nbconvert_exporter": "python",
   "pygments_lexer": "ipython3",
   "version": "3.7.3"
  }
 },
 "nbformat": 4,
 "nbformat_minor": 4
}
